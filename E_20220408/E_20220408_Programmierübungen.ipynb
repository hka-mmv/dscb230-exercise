{
 "cells": [
  {
   "cell_type": "markdown",
   "metadata": {},
   "source": [
    "# Programmierübungen"
   ]
  },
  {
   "cell_type": "code",
   "execution_count": 5,
   "metadata": {},
   "outputs": [],
   "source": [
    "from pprint import pprint # pprint ist ein pretty-print Modul "
   ]
  },
  {
   "cell_type": "markdown",
   "metadata": {},
   "source": [
    "## Vokale zählen "
   ]
  },
  {
   "cell_type": "code",
   "execution_count": 7,
   "metadata": {},
   "outputs": [],
   "source": [
    "# Vokale\n",
    "vowels = \"aeiou\"\n",
    "\n",
    "# Eingabe bzw. Zeichenkette, die durchsucht werden soll\n",
    "ip_str = \"Hello my friend, have you tried our tutorial section yet?\"\n",
    "\n",
    "# Kommentar entfernen, um Benutzereingaben zu verarbeiten.\n",
    "# ip_str = input(\"Geben Sie einige Wörter ein: \")\n",
    "\n",
    "# Vorverarbeitung für das Durchsuchen\n",
    "ip_str = ip_str.casefold()"
   ]
  },
  {
   "cell_type": "markdown",
   "metadata": {},
   "source": [
    "### Vokale zählen *– deklarativ*"
   ]
  },
  {
   "cell_type": "code",
   "execution_count": 6,
   "metadata": {},
   "outputs": [
    {
     "name": "stdout",
     "output_type": "stream",
     "text": [
      "{'a': 2, 'e': 6, 'i': 4, 'o': 5, 'u': 3}\n"
     ]
    }
   ],
   "source": [
    "# Dictionary für jeden zu zählenden Vokal erstellen\n",
    "count = {}.fromkeys(vowels, 0)\n",
    "\n",
    "# Vokale zählen\n",
    "for char in ip_str:\n",
    "    if char in count:\n",
    "        count[char] += 1\n",
    "\n",
    "pprint(count)\n"
   ]
  },
  {
   "cell_type": "markdown",
   "metadata": {},
   "source": [
    "### Vokale zählen *– list comprehension*"
   ]
  },
  {
   "cell_type": "code",
   "execution_count": 8,
   "metadata": {},
   "outputs": [
    {
     "name": "stdout",
     "output_type": "stream",
     "text": [
      "{'a': 2, 'e': 6, 'i': 4, 'o': 5, 'u': 3}\n"
     ]
    }
   ],
   "source": [
    "# Vokale zählen\n",
    "count = {x: sum([1 for char in ip_str if char == x]) for x in vowels}\n",
    "\n",
    "print(count)"
   ]
  },
  {
   "cell_type": "markdown",
   "metadata": {},
   "source": [
    "## `map()`-Funktion"
   ]
  },
  {
   "cell_type": "code",
   "execution_count": 14,
   "metadata": {},
   "outputs": [
    {
     "name": "stdout",
     "output_type": "stream",
     "text": [
      "Anzahl der Terme:  11\n",
      "2 hoch 0 ist 1\n",
      "2 hoch 1 ist 2\n",
      "2 hoch 2 ist 4\n",
      "2 hoch 3 ist 8\n",
      "2 hoch 4 ist 16\n",
      "2 hoch 5 ist 32\n",
      "2 hoch 6 ist 64\n",
      "2 hoch 7 ist 128\n",
      "2 hoch 8 ist 256\n",
      "2 hoch 9 ist 512\n",
      "2 hoch 10 ist 1024\n"
     ]
    }
   ],
   "source": [
    "terms = 11\n",
    "\n",
    "# Kommentar entfernen, um Benutzereingaben zu verarbeiten.\n",
    "# terms = int(input(\"Wie viele Terme? \"))\n",
    "\n",
    "# Anonyme Funktion verwenden\n",
    "result = list(map(lambda x: 2** x, range(terms)))\n",
    "\n",
    "# Ausgabe\n",
    "print(\"Anzahl der Terme: \", terms)\n",
    "\n",
    "for i in range(terms):\n",
    "    print(\"2 hoch\",i,\"ist\", result[i])\n"
   ]
  }
 ],
 "metadata": {
  "interpreter": {
   "hash": "2bb4dfbc3c80a0a71473fc5b155a5d332854e8324611ff8afeeaedcb90f9f264"
  },
  "kernelspec": {
   "display_name": "Python 3.10.1 64-bit",
   "language": "python",
   "name": "python3"
  },
  "language_info": {
   "codemirror_mode": {
    "name": "ipython",
    "version": 3
   },
   "file_extension": ".py",
   "mimetype": "text/x-python",
   "name": "python",
   "nbconvert_exporter": "python",
   "pygments_lexer": "ipython3",
   "version": "3.10.1"
  },
  "orig_nbformat": 4
 },
 "nbformat": 4,
 "nbformat_minor": 2
}
