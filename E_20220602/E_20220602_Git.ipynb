{
 "cells": [
  {
   "cell_type": "markdown",
   "id": "e0385398",
   "metadata": {},
   "source": [
    "# 3 | SOFTWARE-ENTWICKLUNG - Versionsverwaltung mit Git\n",
    "\n",
    "Git ist ein Versionskontrollsystem, mit dem Sie Änderungen an einer Reihe von Dateien verfolgen und bei Bedarf zur vorherigen Version der Dateien zurückkehren können.\n",
    "Es ist wichtig, Ihren Code versionsteuert zu haben, damit Sie die Änderungen verfolgen können, die Sie während der Arbeit in Ihrem Data Science-Projekt vorgenommen haben.\n",
    "Durch die Verwendung eines Versionskontrollsystems können Teams zusammenarbeiten, indem sie über ein Repository von Dateien verfügen, zu denen Teammitglieder durch Merge-Requests beitragen und deren Änderungen hinzufügen können.\n",
    "\n",
    "## Übung: Typischer Workflow\n",
    "\n",
    "Quelle: https://github.com/Sapna2001/Web-Development-Practice\n",
    "\n",
    "1. siehe Cheatsheet\n"
   ]
  },
  {
   "cell_type": "markdown",
   "id": "ddbf70e8",
   "metadata": {},
   "source": [
    "**Weiterführendes Material:**  \n",
    "https://git-scm.com/doc  \n",
    "https://pypi.org/project/jupyterlab-git/  \n",
    "https://github.com/jupyterlab/jupyterlab-git  \n",
    "https://realpython.com/python-git-github-intro/  \n",
    "https://www.toolsqa.com/git/difference-between-git-clone-and-git-fork  \n",
    "https://docs.github.com/en/get-started/writing-on-github/getting-started-with-writing-and-formatting-on-github  "
   ]
  }
 ],
 "metadata": {
  "kernelspec": {
   "display_name": "Python 3.10.1 64-bit",
   "language": "python",
   "name": "python3"
  },
  "language_info": {
   "codemirror_mode": {
    "name": "ipython",
    "version": 3
   },
   "file_extension": ".py",
   "mimetype": "text/x-python",
   "name": "python",
   "nbconvert_exporter": "python",
   "pygments_lexer": "ipython3",
   "version": "3.10.1"
  },
  "vscode": {
   "interpreter": {
    "hash": "83263df5e0b92761d64d8038bccca3306b9243a840da891c63638db5a6da2a7f"
   }
  }
 },
 "nbformat": 4,
 "nbformat_minor": 5
}
