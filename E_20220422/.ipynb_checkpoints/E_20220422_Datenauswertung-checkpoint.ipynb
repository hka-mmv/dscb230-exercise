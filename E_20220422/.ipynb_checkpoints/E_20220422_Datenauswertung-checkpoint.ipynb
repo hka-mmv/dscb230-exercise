{
 "cells": [
  {
   "cell_type": "markdown",
   "metadata": {},
   "source": [
    "# 1 | PROGRAMMIEREN - Erstellen von Programmen zur Datenauswertung\n",
    "\n",
    "Die Datenauswertung beschreibt einen Prozess mit dem Ziel, aus vorhandenen Rohdaten, unter Anwendung verschiedener Methoden und statistischer Analyseverfahren, Informationen und Erkenntnisse zu gewinnen, sie zu beschreiben und in Form von Metriken und Datenvisualisierungen anschaulich darzustellen. "
   ]
  },
  {
   "cell_type": "markdown",
   "metadata": {},
   "source": [
    "## Prozess"
   ]
  },
  {
   "cell_type": "markdown",
   "metadata": {},
   "source": [
    "### 1."
   ]
  },
  {
   "cell_type": "markdown",
   "metadata": {},
   "source": [
    "### 2."
   ]
  },
  {
   "cell_type": "markdown",
   "metadata": {},
   "source": [
    "### 3."
   ]
  },
  {
   "cell_type": "markdown",
   "metadata": {
    "tags": []
   },
   "source": [
    "##  Anwendungsbeispiel 1\n",
    "__Stadt Karlsruhe > Gebäude und Wohnungen > Wohnraumversorgung__\n",
    "\n",
    "### 1. Business Case: tbd\n",
    "\n",
    "Datenquelle: https://transparenz.karlsruhe.de/dataset/gebaude-und-wohnungen  \n",
    "Datenformat: CSV-Datei\n",
    "\n",
    "**Weiterführendes Material:**  \n",
    "https://realpython.com/python-csv/  \n",
    "https://realpython.com/working-with-large-excel-files-in-pandas/"
   ]
  },
  {
   "cell_type": "markdown",
   "metadata": {},
   "source": [
    "#### 1.\n",
    "Von der Datenquelle die CSV-Datei \"gebaude-und-wohnungen-wohnungen.csv\" herunterladen und im Arbeitsverzeichnis speichern.  \n",
    "Mit Pandas die Datei in ein Dataframe laden."
   ]
  },
  {
   "cell_type": "code",
   "execution_count": 1,
   "metadata": {},
   "outputs": [],
   "source": [
    "import pandas as pd"
   ]
  },
  {
   "cell_type": "code",
   "execution_count": 4,
   "metadata": {},
   "outputs": [
    {
     "ename": "FileNotFoundError",
     "evalue": "[Errno 2] No such file or directory: 'Ressourcen/gebaude-und-wohnungen-wohnungen.csv'",
     "output_type": "error",
     "traceback": [
      "\u001b[1;31m---------------------------------------------------------------------------\u001b[0m",
      "\u001b[1;31mFileNotFoundError\u001b[0m                         Traceback (most recent call last)",
      "Input \u001b[1;32mIn [4]\u001b[0m, in \u001b[0;36m<cell line: 1>\u001b[1;34m()\u001b[0m\n\u001b[1;32m----> 1\u001b[0m \u001b[38;5;28;01mwith\u001b[39;00m \u001b[38;5;28;43mopen\u001b[39;49m\u001b[43m(\u001b[49m\u001b[38;5;124;43m\"\u001b[39;49m\u001b[38;5;124;43mRessourcen/gebaude-und-wohnungen-wohnungen.csv\u001b[39;49m\u001b[38;5;124;43m\"\u001b[39;49m\u001b[43m)\u001b[49m \u001b[38;5;28;01mas\u001b[39;00m csv_file:\n\u001b[0;32m      2\u001b[0m     df \u001b[38;5;241m=\u001b[39m pd\u001b[38;5;241m.\u001b[39mread_csv(csv_file)\n",
      "\u001b[1;31mFileNotFoundError\u001b[0m: [Errno 2] No such file or directory: 'Ressourcen/gebaude-und-wohnungen-wohnungen.csv'"
     ]
    }
   ],
   "source": [
    "with open(\"Ressourcen/gebaude-und-wohnungen-wohnungen.csv\") as csv_file:\n",
    "    df = pd.read_csv(csv_file)\n",
    "    # df = pd.read_csv(csv_file, skiprows=3, usecols=[0,1,2], names=[\"Neighborhood\",\"Year\",\"Appartment\"])"
   ]
  },
  {
   "cell_type": "code",
   "execution_count": 3,
   "metadata": {},
   "outputs": [
    {
     "ename": "NameError",
     "evalue": "name 'df' is not defined",
     "output_type": "error",
     "traceback": [
      "\u001b[1;31m---------------------------------------------------------------------------\u001b[0m",
      "\u001b[1;31mNameError\u001b[0m                                 Traceback (most recent call last)",
      "Input \u001b[1;32mIn [3]\u001b[0m, in \u001b[0;36m<cell line: 1>\u001b[1;34m()\u001b[0m\n\u001b[1;32m----> 1\u001b[0m \u001b[38;5;28mprint\u001b[39m(\u001b[38;5;124m\"\u001b[39m\u001b[38;5;124mAnzahl Datensätze:\u001b[39m\u001b[38;5;124m\"\u001b[39m,\u001b[38;5;28mlen\u001b[39m(\u001b[43mdf\u001b[49m))\n",
      "\u001b[1;31mNameError\u001b[0m: name 'df' is not defined"
     ]
    }
   ],
   "source": [
    "print(\"Anzahl Datensätze:\",len(df))\n"
   ]
  },
  {
   "cell_type": "code",
   "execution_count": null,
   "metadata": {},
   "outputs": [],
   "source": [
    "df.head()"
   ]
  },
  {
   "cell_type": "markdown",
   "metadata": {},
   "source": [
    "#### 2.\n",
    "Datentypen anzeigen."
   ]
  },
  {
   "cell_type": "code",
   "execution_count": null,
   "metadata": {},
   "outputs": [],
   "source": [
    "df.dtypes"
   ]
  },
  {
   "cell_type": "markdown",
   "metadata": {},
   "source": [
    "#### 3.\n",
    "Filtern nach Jahr ab 2015 und speichern als neues Dataframe."
   ]
  },
  {
   "cell_type": "code",
   "execution_count": null,
   "metadata": {},
   "outputs": [],
   "source": [
    "df_2015 = df[df[\"Jahr\"] > 2015]"
   ]
  },
  {
   "cell_type": "code",
   "execution_count": null,
   "metadata": {},
   "outputs": [],
   "source": [
    "from matplotlib import pyplot as plt"
   ]
  },
  {
   "cell_type": "code",
   "execution_count": null,
   "metadata": {},
   "outputs": [],
   "source": [
    "plt.plot(df_2015[\"Stadtteil\"], df_2015[\"Wohnungen\"], \"b\", label = \"Wohnungen KA Stadt\")\n",
    "plt.gcf().autofmt_xdate()\n",
    "plt.legend()\n",
    "plt.show()"
   ]
  },
  {
   "cell_type": "markdown",
   "metadata": {},
   "source": [
    "#### 4.\n",
    "Delta zum Vorjahr berechnen."
   ]
  },
  {
   "cell_type": "code",
   "execution_count": null,
   "metadata": {},
   "outputs": [],
   "source": [
    "# Zeitreihe Beispiel 1\n",
    "s = pd.Series([1, 1, 2, 3, 5, 8])\n",
    "s.diff()"
   ]
  },
  {
   "cell_type": "code",
   "execution_count": 7,
   "metadata": {},
   "outputs": [
    {
     "name": "stdout",
     "output_type": "stream",
     "text": [
      "0    2000-01-01\n",
      "1    2000-01-02\n",
      "2    2000-01-03\n",
      "3    2000-01-04\n",
      "4    2000-01-05\n",
      "5    2000-01-06\n",
      "6    2000-01-07\n",
      "7    2000-01-08\n",
      "8    2000-01-09\n",
      "9    2000-01-10\n",
      "10   2000-01-11\n",
      "11   2000-01-12\n",
      "12   2000-01-13\n",
      "13   2000-01-14\n",
      "14   2000-01-15\n",
      "15   2000-01-16\n",
      "16   2000-01-17\n",
      "17   2000-01-18\n",
      "18   2000-01-19\n",
      "19   2000-01-20\n",
      "20   2000-01-21\n",
      "21   2000-01-22\n",
      "22   2000-01-23\n",
      "23   2000-01-24\n",
      "24   2000-01-25\n",
      "25   2000-01-26\n",
      "26   2000-01-27\n",
      "27   2000-01-28\n",
      "28   2000-01-29\n",
      "29   2000-01-30\n",
      "30   2000-01-31\n",
      "31   2000-02-01\n",
      "32   2000-02-02\n",
      "33   2000-02-03\n",
      "34   2000-02-04\n",
      "35   2000-02-05\n",
      "36   2000-02-06\n",
      "37   2000-02-07\n",
      "38   2000-02-08\n",
      "39   2000-02-09\n",
      "40   2000-02-10\n",
      "41   2000-02-11\n",
      "42   2000-02-12\n",
      "43   2000-02-13\n",
      "44   2000-02-14\n",
      "45   2000-02-15\n",
      "46   2000-02-16\n",
      "47   2000-02-17\n",
      "48   2000-02-18\n",
      "49   2000-02-19\n",
      "dtype: datetime64[ns]\n"
     ]
    }
   ],
   "source": [
    "# Zeitreihe Beispiel 2\n",
    "zeitreihe_jahr = pd.Series(pd.date_range(\"2000\", periods=50, freq=\"D\"))\n",
    "print(zeitreihe_jahr)"
   ]
  },
  {
   "cell_type": "code",
   "execution_count": 8,
   "metadata": {},
   "outputs": [
    {
     "name": "stdout",
     "output_type": "stream",
     "text": [
      "0    -8154 days\n",
      "1    -8153 days\n",
      "2    -8152 days\n",
      "3    -8151 days\n",
      "4    -8150 days\n",
      "5    -8149 days\n",
      "6    -8148 days\n",
      "7    -8147 days\n",
      "8    -8146 days\n",
      "9    -8145 days\n",
      "10   -8144 days\n",
      "11   -8143 days\n",
      "12   -8142 days\n",
      "13   -8141 days\n",
      "14   -8140 days\n",
      "15   -8139 days\n",
      "16   -8138 days\n",
      "17   -8137 days\n",
      "18   -8136 days\n",
      "19   -8135 days\n",
      "20   -8134 days\n",
      "21   -8133 days\n",
      "22   -8132 days\n",
      "23   -8131 days\n",
      "24   -8130 days\n",
      "25   -8129 days\n",
      "26   -8128 days\n",
      "27   -8127 days\n",
      "28   -8126 days\n",
      "29   -8125 days\n",
      "30   -8124 days\n",
      "31   -8123 days\n",
      "32   -8122 days\n",
      "33   -8121 days\n",
      "34   -8120 days\n",
      "35   -8119 days\n",
      "36   -8118 days\n",
      "37   -8117 days\n",
      "38   -8116 days\n",
      "39   -8115 days\n",
      "40   -8114 days\n",
      "41   -8113 days\n",
      "42   -8112 days\n",
      "43   -8111 days\n",
      "44   -8110 days\n",
      "45   -8109 days\n",
      "46   -8108 days\n",
      "47   -8107 days\n",
      "48   -8106 days\n",
      "49   -8105 days\n",
      "dtype: timedelta64[ns]\n"
     ]
    },
    {
     "data": {
      "text/plain": [
       "datetime.datetime"
      ]
     },
     "execution_count": 8,
     "metadata": {},
     "output_type": "execute_result"
    }
   ],
   "source": [
    "# Zeitreihe abzüglich aktueles Datum\n",
    "import datetime\n",
    "x = datetime.datetime(2022, 4, 29 ,0 ,0 )\n",
    "print(zeitreihe_jahr-x)\n",
    "type(x)"
   ]
  },
  {
   "cell_type": "code",
   "execution_count": 9,
   "metadata": {},
   "outputs": [
    {
     "data": {
      "text/plain": [
       "0    1999-12-31\n",
       "1    2000-01-01\n",
       "2    2000-01-02\n",
       "3    2000-01-03\n",
       "4    2000-01-04\n",
       "5    2000-01-05\n",
       "6    2000-01-06\n",
       "7    2000-01-07\n",
       "8    2000-01-08\n",
       "9    2000-01-09\n",
       "10   2000-01-10\n",
       "11   2000-01-11\n",
       "12   2000-01-12\n",
       "13   2000-01-13\n",
       "14   2000-01-14\n",
       "15   2000-01-15\n",
       "16   2000-01-16\n",
       "17   2000-01-17\n",
       "18   2000-01-18\n",
       "19   2000-01-19\n",
       "20   2000-01-20\n",
       "21   2000-01-21\n",
       "22   2000-01-22\n",
       "23   2000-01-23\n",
       "24   2000-01-24\n",
       "25   2000-01-25\n",
       "26   2000-01-26\n",
       "27   2000-01-27\n",
       "28   2000-01-28\n",
       "29   2000-01-29\n",
       "30   2000-01-30\n",
       "31   2000-01-31\n",
       "32   2000-02-01\n",
       "33   2000-02-02\n",
       "34   2000-02-03\n",
       "35   2000-02-04\n",
       "36   2000-02-05\n",
       "37   2000-02-06\n",
       "38   2000-02-07\n",
       "39   2000-02-08\n",
       "40   2000-02-09\n",
       "41   2000-02-10\n",
       "42   2000-02-11\n",
       "43   2000-02-12\n",
       "44   2000-02-13\n",
       "45   2000-02-14\n",
       "46   2000-02-15\n",
       "47   2000-02-16\n",
       "48   2000-02-17\n",
       "49   2000-02-18\n",
       "dtype: datetime64[ns]"
      ]
     },
     "execution_count": 9,
     "metadata": {},
     "output_type": "execute_result"
    }
   ],
   "source": [
    "# Zeitreihe Offset subtrahieren\n",
    "zeitreihe_jahr - pd.offsets.Day(1)"
   ]
  },
  {
   "cell_type": "code",
   "execution_count": 10,
   "metadata": {},
   "outputs": [
    {
     "ename": "NameError",
     "evalue": "name 'df' is not defined",
     "output_type": "error",
     "traceback": [
      "\u001b[1;31m---------------------------------------------------------------------------\u001b[0m",
      "\u001b[1;31mNameError\u001b[0m                                 Traceback (most recent call last)",
      "Input \u001b[1;32mIn [10]\u001b[0m, in \u001b[0;36m<cell line: 2>\u001b[1;34m()\u001b[0m\n\u001b[0;32m      1\u001b[0m \u001b[38;5;66;03m# 1. Schritt: Sortieren nach Stadtteil, dann nach Jahr\u001b[39;00m\n\u001b[1;32m----> 2\u001b[0m \u001b[43mdf\u001b[49m\u001b[38;5;241m.\u001b[39msort_values(by\u001b[38;5;241m=\u001b[39m[\u001b[38;5;124m\"\u001b[39m\u001b[38;5;124mStadtteil\u001b[39m\u001b[38;5;124m\"\u001b[39m,\u001b[38;5;124m\"\u001b[39m\u001b[38;5;124mJahr\u001b[39m\u001b[38;5;124m\"\u001b[39m])\n",
      "\u001b[1;31mNameError\u001b[0m: name 'df' is not defined"
     ]
    }
   ],
   "source": [
    "# 1. Schritt: Sortieren nach Stadtteil, dann nach Jahr\n",
    "df.sort_values(by=[\"Stadtteil\",\"Jahr\"])"
   ]
  },
  {
   "cell_type": "code",
   "execution_count": 11,
   "metadata": {},
   "outputs": [
    {
     "ename": "NameError",
     "evalue": "name 'df' is not defined",
     "output_type": "error",
     "traceback": [
      "\u001b[1;31m---------------------------------------------------------------------------\u001b[0m",
      "\u001b[1;31mNameError\u001b[0m                                 Traceback (most recent call last)",
      "Input \u001b[1;32mIn [11]\u001b[0m, in \u001b[0;36m<cell line: 2>\u001b[1;34m()\u001b[0m\n\u001b[0;32m      1\u001b[0m \u001b[38;5;66;03m# 2. Schritt: Delta berechnen\u001b[39;00m\n\u001b[1;32m----> 2\u001b[0m df[\u001b[38;5;124m\"\u001b[39m\u001b[38;5;124mDelta VJ\u001b[39m\u001b[38;5;124m\"\u001b[39m] \u001b[38;5;241m=\u001b[39m \u001b[43mdf\u001b[49m[\u001b[38;5;124m\"\u001b[39m\u001b[38;5;124mWohnungen\u001b[39m\u001b[38;5;124m\"\u001b[39m] \u001b[38;5;241m-\u001b[39m df[\u001b[38;5;124m\"\u001b[39m\u001b[38;5;124mWohnungen\u001b[39m\u001b[38;5;124m\"\u001b[39m]\u001b[38;5;241m.\u001b[39mshift(\u001b[38;5;241m1\u001b[39m)\n\u001b[0;32m      4\u001b[0m \u001b[38;5;28mprint\u001b[39m(df)\n",
      "\u001b[1;31mNameError\u001b[0m: name 'df' is not defined"
     ]
    }
   ],
   "source": [
    "# 2. Schritt: Delta berechnen\n",
    "df[\"Delta VJ\"] = df[\"Wohnungen\"] - df[\"Wohnungen\"].shift(1)\n",
    "\n",
    "print(df)"
   ]
  },
  {
   "cell_type": "code",
   "execution_count": 12,
   "metadata": {},
   "outputs": [
    {
     "data": {
      "image/png": "[encoded data removed]",
      "text/plain": [
       "<Figure size 640x480 with 1 Axes>"
      ]
     },
     "metadata": {},
     "output_type": "display_data"
    }
   ],
   "source": [
    "\"\"\"\n",
    "====================\n",
    "Horizontal bar chart\n",
    "====================\n",
    "\n",
    "This example showcases a simple horizontal bar chart.\n",
    "\"\"\"\n",
    "import matplotlib.pyplot as plt\n",
    "plt.rcdefaults()\n",
    "import numpy as np\n",
    "import matplotlib.pyplot as plt\n",
    "\n",
    "\n",
    "plt.rcdefaults()\n",
    "fig, ax = plt.subplots()\n",
    "\n",
    "# Example data\n",
    "people = ('Tom', 'Dick', 'Harry', 'Slim', 'Jim')\n",
    "y_pos = np.arange(len(people))\n",
    "performance = 3 + 10 * np.random.rand(len(people))\n",
    "error = np.random.rand(len(people))\n",
    "\n",
    "ax.barh(y_pos, performance, xerr=error, align='center',\n",
    "        color='green', ecolor='black')\n",
    "ax.set_yticks(y_pos)\n",
    "ax.set_yticklabels(people)\n",
    "ax.invert_yaxis()  # labels read top-to-bottom\n",
    "ax.set_xlabel('Performance')\n",
    "ax.set_title('How fast do you want to go today?')\n",
    "\n",
    "plt.show()"
   ]
  },
  {
   "cell_type": "code",
   "execution_count": 13,
   "metadata": {},
   "outputs": [
    {
     "ename": "NameError",
     "evalue": "name 'df' is not defined",
     "output_type": "error",
     "traceback": [
      "\u001b[1;31m---------------------------------------------------------------------------\u001b[0m",
      "\u001b[1;31mNameError\u001b[0m                                 Traceback (most recent call last)",
      "Input \u001b[1;32mIn [13]\u001b[0m, in \u001b[0;36m<cell line: 2>\u001b[1;34m()\u001b[0m\n\u001b[0;32m      1\u001b[0m \u001b[38;5;66;03m# 3. Schritt: Visualisierung\u001b[39;00m\n\u001b[1;32m----> 2\u001b[0m plt\u001b[38;5;241m.\u001b[39mplot(\u001b[43mdf\u001b[49m[\u001b[38;5;124m\"\u001b[39m\u001b[38;5;124mDelta VJ\u001b[39m\u001b[38;5;124m\"\u001b[39m], lw\u001b[38;5;241m=\u001b[39m\u001b[38;5;241m1\u001b[39m)\n\u001b[0;32m      3\u001b[0m plt\u001b[38;5;241m.\u001b[39mshow()\n",
      "\u001b[1;31mNameError\u001b[0m: name 'df' is not defined"
     ]
    }
   ],
   "source": [
    "# 3. Schritt: Visualisierung\n",
    "plt.plot(df[\"Delta VJ\"], lw=1)\n",
    "plt.show()"
   ]
  },
  {
   "cell_type": "markdown",
   "metadata": {},
   "source": [
    "__Weiterführende Literatur:__  \n",
    "Pajankar, Ashwin: Hands-on Matplotlib - Learn Plotting and Visualizations with Python 3, Springer eBook Collection, 2022.  \n",
    "https://pandas.pydata.org/docs/index.html  \n",
    "https://www.youtube.com/watch?v=RlIiVeig3hc "
   ]
  },
  {
   "cell_type": "markdown",
   "metadata": {},
   "source": [
    "## Visualisierung\n",
    "\n",
    "To use the Matplotlib library in a notebook for basic plotting, you must import its\n",
    "pyplot module as follows:\n",
    "\n",
    "```python\n",
    "import matplotlib.pyplot as plt\n",
    "```\n",
    "\n",
    "The pyplot module provides a Matlab-like interface for creating visualizations. Also,\n",
    "to show the Matplotlib visualizations in the notebook, you must run the following magic\n",
    "command:\n",
    "\n",
    "```python\n",
    "%matplotlib inline\n",
    "```\n",
    "\n",
    "This forces Matlab to show the output inline, directly below the code cell that\n",
    "produces the visualization. We will always use this when we need to use Matplotlib.\n",
    "Let’s import NumPy too as follows:\n",
    "\n",
    "```python\n",
    "import numpy as np\n",
    "```\n",
    "\n",
    "You can read more about Matplotlib at https://matplotlib.org/."
   ]
  },
  {
   "cell_type": "markdown",
   "metadata": {},
   "source": [
    "> TBD: MMV"
   ]
  },
  {
   "cell_type": "markdown",
   "metadata": {
    "tags": []
   },
   "source": [
    "##  Anwendungsbeispiel 2\n",
    "__Aktienanalyse SMA200__\n",
    "\n",
    "### Business Case: Aktienanalyse 200-Tage-Linie berechnen am Beispiel Microsoft (MSFT)\n",
    "\n",
    "Eingabewert: MSFT\n",
    "\n",
    "Datenquelle: https://query1.finance.yahoo.com/v7/finance/download/\"+ticker+\"?period1=\"+history_start+\"&period2=\"+now+\"&interval=1d&events=history   \n",
    "Datenformat: CSV\n",
    "\n",
    "Meta-Information zur Datenquelle:  \n",
    "\"..Yahoo Finance API is excellent if you are a relative beginner and just want to get your feet wet/test out some ideas with some data quickly, or need to access something like options data.  \n",
    "However if you are planning to build a more complex and long term system that might be making hundreds to thousands of data requests per day or plan to make use of more specific information like technical analysis indicators in it’s modelling, we’d recommend going with another option that provides some of these extra functionalities built in.\"\n",
    "Quelle: https://algotrading101.com/learn/yahoo-finance-api-guide/\n",
    "\n",
    "**Weiterführendes Material:**  \n",
    "https://numpy.org/doc/stable/user/absolute_beginners.html  \n",
    "https://pandas.pydata.org/docs/user_guide/index.html  \n",
    "https://pandas.pydata.org/docs/reference/api/pandas.DataFrame.rolling.html  \n",
    "https://docs.python.org/3/library/time.html  \n",
    "https://matplotlib.org"
   ]
  },
  {
   "cell_type": "code",
   "execution_count": 14,
   "metadata": {},
   "outputs": [],
   "source": [
    "import numpy as np\n",
    "import pandas as pd\n",
    "import time\n",
    "import matplotlib.pyplot as plt"
   ]
  },
  {
   "cell_type": "code",
   "execution_count": 15,
   "metadata": {},
   "outputs": [
    {
     "name": "stdin",
     "output_type": "stream",
     "text": [
      " MSFT\n"
     ]
    }
   ],
   "source": [
    "# Ticker-Symbol eingeben\n",
    "ticker = input()"
   ]
  },
  {
   "cell_type": "code",
   "execution_count": 16,
   "metadata": {},
   "outputs": [],
   "source": [
    "# Daten der letzten 5 Jahre herunterladen\n",
    "now = str(round(time.time()))\n",
    "history_start = str(round(time.time()-5*365*24*60*60))\n",
    "datasource = \"https://query1.finance.yahoo.com/v7/finance/download/\"+ticker+\"?period1=\"+history_start+\"&period2=\"+now+\"&interval=1d&events=history\"\n",
    "df = pd.read_csv(datasource)"
   ]
  },
  {
   "cell_type": "code",
   "execution_count": 17,
   "metadata": {},
   "outputs": [
    {
     "data": {
      "text/plain": [
       "RangeIndex(start=0, stop=1258, step=1)"
      ]
     },
     "execution_count": 17,
     "metadata": {},
     "output_type": "execute_result"
    }
   ],
   "source": [
    "df.index"
   ]
  },
  {
   "cell_type": "code",
   "execution_count": 18,
   "metadata": {},
   "outputs": [
    {
     "data": {
      "text/plain": [
       "<bound method DataFrame.info of             Date        Open        High         Low       Close   Adj Close  \\\n",
       "0     2017-06-30   68.779999   69.379997   68.739998   68.930000   64.563538   \n",
       "1     2017-07-03   69.330002   69.599998   68.019997   68.169998   63.851688   \n",
       "2     2017-07-05   68.260002   69.440002   68.220001   69.080002   64.704056   \n",
       "3     2017-07-06   68.269997   68.779999   68.120003   68.570000   64.226349   \n",
       "4     2017-07-07   68.699997   69.839996   68.699997   69.459999   65.059982   \n",
       "...          ...         ...         ...         ...         ...         ...   \n",
       "1253  2022-06-23  255.570007  259.369995  253.630005  258.859985  258.859985   \n",
       "1254  2022-06-24  261.809998  267.980011  261.720001  267.700012  267.700012   \n",
       "1255  2022-06-27  268.209991  268.299988  263.279999  264.890015  264.890015   \n",
       "1256  2022-06-28  263.980011  266.910004  256.320007  256.480011  256.480011   \n",
       "1257  2022-06-29  257.589996  261.970001  255.759995  260.000000  260.000000   \n",
       "\n",
       "        Volume  \n",
       "0     24161100  \n",
       "1     16165500  \n",
       "2     21176300  \n",
       "3     21117600  \n",
       "4     16878300  \n",
       "...        ...  \n",
       "1253  25861400  \n",
       "1254  33900700  \n",
       "1255  24615100  \n",
       "1256  27295500  \n",
       "1257   8738805  \n",
       "\n",
       "[1258 rows x 7 columns]>"
      ]
     },
     "execution_count": 18,
     "metadata": {},
     "output_type": "execute_result"
    }
   ],
   "source": [
    "df.info"
   ]
  },
  {
   "cell_type": "code",
   "execution_count": 19,
   "metadata": {},
   "outputs": [
    {
     "data": {
      "text/plain": [
       "Index(['Date', 'Open', 'High', 'Low', 'Close', 'Adj Close', 'Volume'], dtype='object')"
      ]
     },
     "execution_count": 19,
     "metadata": {},
     "output_type": "execute_result"
    }
   ],
   "source": [
    "df.columns"
   ]
  },
  {
   "cell_type": "code",
   "execution_count": 20,
   "metadata": {},
   "outputs": [
    {
     "data": {
      "text/plain": [
       "Date          object\n",
       "Open         float64\n",
       "High         float64\n",
       "Low          float64\n",
       "Close        float64\n",
       "Adj Close    float64\n",
       "Volume         int64\n",
       "dtype: object"
      ]
     },
     "execution_count": 20,
     "metadata": {},
     "output_type": "execute_result"
    }
   ],
   "source": [
    "df.dtypes"
   ]
  },
  {
   "cell_type": "code",
   "execution_count": 21,
   "metadata": {},
   "outputs": [
    {
     "data": {
      "text/plain": [
       "<bound method NDFrame.head of             Date        Open        High         Low       Close   Adj Close  \\\n",
       "0     2017-06-30   68.779999   69.379997   68.739998   68.930000   64.563538   \n",
       "1     2017-07-03   69.330002   69.599998   68.019997   68.169998   63.851688   \n",
       "2     2017-07-05   68.260002   69.440002   68.220001   69.080002   64.704056   \n",
       "3     2017-07-06   68.269997   68.779999   68.120003   68.570000   64.226349   \n",
       "4     2017-07-07   68.699997   69.839996   68.699997   69.459999   65.059982   \n",
       "...          ...         ...         ...         ...         ...         ...   \n",
       "1253  2022-06-23  255.570007  259.369995  253.630005  258.859985  258.859985   \n",
       "1254  2022-06-24  261.809998  267.980011  261.720001  267.700012  267.700012   \n",
       "1255  2022-06-27  268.209991  268.299988  263.279999  264.890015  264.890015   \n",
       "1256  2022-06-28  263.980011  266.910004  256.320007  256.480011  256.480011   \n",
       "1257  2022-06-29  257.589996  261.970001  255.759995  260.000000  260.000000   \n",
       "\n",
       "        Volume  \n",
       "0     24161100  \n",
       "1     16165500  \n",
       "2     21176300  \n",
       "3     21117600  \n",
       "4     16878300  \n",
       "...        ...  \n",
       "1253  25861400  \n",
       "1254  33900700  \n",
       "1255  24615100  \n",
       "1256  27295500  \n",
       "1257   8738805  \n",
       "\n",
       "[1258 rows x 7 columns]>"
      ]
     },
     "execution_count": 21,
     "metadata": {},
     "output_type": "execute_result"
    }
   ],
   "source": [
    "df.head"
   ]
  },
  {
   "cell_type": "code",
   "execution_count": 22,
   "metadata": {},
   "outputs": [],
   "source": [
    "# Daten anpassen\n",
    "df[\"Date\"] = pd.to_datetime(df[\"Date\"])\n",
    "data = df.filter(['Date','Close'])\n",
    "data.set_index(\"Date\", inplace=True)"
   ]
  },
  {
   "cell_type": "code",
   "execution_count": 23,
   "metadata": {},
   "outputs": [],
   "source": [
    "# 200-Tage-Linie berechnen\n",
    "data['SMA200'] = data.rolling(window=200).mean()"
   ]
  },
  {
   "cell_type": "code",
   "execution_count": 24,
   "metadata": {},
   "outputs": [
    {
     "data": {
      "image/png": "[encoded data removed]",
      "text/plain": [
       "<Figure size 1200x800 with 1 Axes>"
      ]
     },
     "metadata": {},
     "output_type": "display_data"
    }
   ],
   "source": [
    "# Diagramm ausgeben\n",
    "fig = plt.figure(figsize=(12,8))\n",
    "plt.title(ticker)\n",
    "plt.xlabel(\"Datum\")\n",
    "plt.ylabel(\"Preis\")\n",
    "plt.plot(data.index, data[\"Close\"], label=\"Schlusskurs\")\n",
    "plt.plot(data.index, data[\"SMA200\"], label=\"SMA200\")\n",
    "plt.legend(loc='upper left')\n",
    "plt.show()"
   ]
  },
  {
   "cell_type": "markdown",
   "metadata": {},
   "source": [
    "### Erweiterung: Alle DAX-Werte in Small Multiples darstellen"
   ]
  },
  {
   "cell_type": "markdown",
   "metadata": {},
   "source": [
    "__Small Multiples__ werden verwendet, um mehrere Datensätze nebeneinander zu zeichnen. In Matplotlib können mit der Funktion `plt.subplots()` Small Multiples erstellt werden. Das erste Argument ist die Anzahl der Zeilen in der Liste der generierten Achsen-Objekte und das zweite Argument ist die Anzahl der Spalten.\n",
    "\n",
    "Datenquelle: https://query1.finance.yahoo.com/v7/finance/download/\"+ticker+\"?period1=\"+history_start+\"&period2=\"+now+\"&interval=1d&events=history\n",
    "Datenformat: CSV"
   ]
  },
  {
   "cell_type": "code",
   "execution_count": 25,
   "metadata": {},
   "outputs": [
    {
     "ename": "FileNotFoundError",
     "evalue": "[Errno 2] No such file or directory: 'Ressourcen/dax40.csv'",
     "output_type": "error",
     "traceback": [
      "\u001b[1;31m---------------------------------------------------------------------------\u001b[0m",
      "\u001b[1;31mFileNotFoundError\u001b[0m                         Traceback (most recent call last)",
      "Input \u001b[1;32mIn [25]\u001b[0m, in \u001b[0;36m<cell line: 3>\u001b[1;34m()\u001b[0m\n\u001b[0;32m      1\u001b[0m \u001b[38;5;66;03m# DAX Werte auslesen\u001b[39;00m\n\u001b[1;32m----> 3\u001b[0m \u001b[38;5;28;01mwith\u001b[39;00m \u001b[38;5;28;43mopen\u001b[39;49m\u001b[43m(\u001b[49m\u001b[38;5;124;43m\"\u001b[39;49m\u001b[38;5;124;43mRessourcen/dax40.csv\u001b[39;49m\u001b[38;5;124;43m\"\u001b[39;49m\u001b[43m)\u001b[49m \u001b[38;5;28;01mas\u001b[39;00m csv_dax40:\n\u001b[0;32m      4\u001b[0m     df_dax40 \u001b[38;5;241m=\u001b[39m pd\u001b[38;5;241m.\u001b[39mread_csv(csv_dax40)\n\u001b[0;32m      6\u001b[0m \u001b[38;5;66;03m# Neue Spalte erstellen. Werte erweitern durch anhängen einer Zeichenkette am Ende.\u001b[39;00m\n",
      "\u001b[1;31mFileNotFoundError\u001b[0m: [Errno 2] No such file or directory: 'Ressourcen/dax40.csv'"
     ]
    }
   ],
   "source": [
    "# DAX Werte auslesen\n",
    "\n",
    "with open(\"Ressourcen/dax40.csv\") as csv_dax40:\n",
    "    df_dax40 = pd.read_csv(csv_dax40)\n",
    "          \n",
    "# Neue Spalte erstellen. Werte erweitern durch anhängen einer Zeichenkette am Ende.\n",
    "df_dax40[\"SYMBOL\"] = df_dax40[\"DAX40\"].astype(str) + \".DE\"\n",
    "\n",
    "# Ausgeben zur Kontrolle\n",
    "print(df_dax40)\n",
    "\n",
    "# Speichern als neue CSV-Datei.\n",
    "df_dax40.to_csv(\"Ressourcen/dax40_symbol.csv\", index=False)"
   ]
  },
  {
   "cell_type": "code",
   "execution_count": null,
   "metadata": {},
   "outputs": [],
   "source": [
    "# Laden historischer Daten aller DAX Symbole\n",
    "\n",
    "now = str(round(time.time()))\n",
    "years = 5\n",
    "history_start = str(round(time.time()-years*365*24*60*60))\n",
    "\n",
    "# Symbol-Spalte an Index Position 0\n",
    "df_dax40_hist5y = pd.DataFrame(columns=[\"Symbol\"])\n",
    "\n",
    "for ticker in df_dax40[\"SYMBOL\"]:\n",
    "    ds = \"https://query1.finance.yahoo.com/v7/finance/download/\"+ticker+\"?period1=\"+history_start+\"&period2=\"+now+\"&interval=1d&events=history\"\n",
    "    df_temp = pd.read_csv(ds)\n",
    "\n",
    "    # Symbol-Spalte an Index Position 0\n",
    "    df_temp.insert(0, \"Symbol\", ticker)\n",
    "\n",
    "    # Testen\n",
    "    # print(df_temp.info)\n",
    "    # print(len(df_temp.index))\n",
    "    \n",
    "    df_dax40_hist5y = df_dax40_hist5y.append(df_temp,ignore_index = True)"
   ]
  },
  {
   "cell_type": "code",
   "execution_count": null,
   "metadata": {},
   "outputs": [],
   "source": [
    "# Tests\n",
    "print(df_dax40_hist5y.info)"
   ]
  },
  {
   "cell_type": "code",
   "execution_count": 49,
   "metadata": {},
   "outputs": [
    {
     "data": {
      "text/plain": [
       "array([[<AxesSubplot:>, <AxesSubplot:>, <AxesSubplot:>, <AxesSubplot:>,\n",
       "        <AxesSubplot:>],\n",
       "       [<AxesSubplot:>, <AxesSubplot:>, <AxesSubplot:>, <AxesSubplot:>,\n",
       "        <AxesSubplot:>],\n",
       "       [<AxesSubplot:>, <AxesSubplot:>, <AxesSubplot:>, <AxesSubplot:>,\n",
       "        <AxesSubplot:>],\n",
       "       [<AxesSubplot:>, <AxesSubplot:>, <AxesSubplot:>, <AxesSubplot:>,\n",
       "        <AxesSubplot:>],\n",
       "       [<AxesSubplot:>, <AxesSubplot:>, <AxesSubplot:>, <AxesSubplot:>,\n",
       "        <AxesSubplot:>],\n",
       "       [<AxesSubplot:>, <AxesSubplot:>, <AxesSubplot:>, <AxesSubplot:>,\n",
       "        <AxesSubplot:>],\n",
       "       [<AxesSubplot:>, <AxesSubplot:>, <AxesSubplot:>, <AxesSubplot:>,\n",
       "        <AxesSubplot:>],\n",
       "       [<AxesSubplot:>, <AxesSubplot:>, <AxesSubplot:>, <AxesSubplot:>,\n",
       "        <AxesSubplot:>]], dtype=object)"
      ]
     },
     "execution_count": 49,
     "metadata": {},
     "output_type": "execute_result"
    },
    {
     "data": {
      "image/png": "[encoded data removed]",
      "text/plain": [
       "<Figure size 432x288 with 40 Axes>"
      ]
     },
     "metadata": {
      "needs_background": "light"
     },
     "output_type": "display_data"
    }
   ],
   "source": [
    "df_dax40_hist5y.plot(subplots=True, layout=(8,5))"
   ]
  },
  {
   "cell_type": "markdown",
   "metadata": {},
   "source": [
    "## Übungsaufgaben\n",
    "\n",
    "Amos, Bader Jablonski, Heisler: Python Basics - A practical introduction to Python 3\n",
    "\n",
    "S. 94 f Converting String to Numbers  \n",
    "S. 127 ff. Print Numbers in Style  \n",
    "S. 165 Summary an Additional Ressourcen  \n",
    "S. 255 Review Exercises Tuples, Liste and Dictionaries  \n",
    "S. 260 Sorting Liste, für die Hausarbeit z. B. eine Top N   Liste absteigend sortiert\n",
    "S. 375 Reading CSV Files With csv.reader  \n",
    "\n"
   ]
  },
  {
   "cell_type": "code",
   "execution_count": null,
   "metadata": {},
   "outputs": [],
   "source": [
    "df.head()"
   ]
  },
  {
   "cell_type": "markdown",
   "metadata": {},
   "source": [
    "Anwendung von Methoden aus  \n",
    "https://realpython.com/pandas-dataframe/#accessing-and-modifying-data"
   ]
  },
  {
   "cell_type": "code",
   "execution_count": null,
   "metadata": {},
   "outputs": [],
   "source": [
    "df.index"
   ]
  },
  {
   "cell_type": "code",
   "execution_count": null,
   "metadata": {},
   "outputs": [],
   "source": [
    "df.columns"
   ]
  },
  {
   "cell_type": "code",
   "execution_count": null,
   "metadata": {},
   "outputs": [],
   "source": [
    "print(\"Karlsruhe hat \", df[\"Stadtteil\"].nunique(),\" Stadtteile\")"
   ]
  },
  {
   "cell_type": "code",
   "execution_count": null,
   "metadata": {},
   "outputs": [],
   "source": [
    "df.nlargest(10,\"Wohnungen\")"
   ]
  },
  {
   "cell_type": "code",
   "execution_count": null,
   "metadata": {},
   "outputs": [],
   "source": [
    "df[\"Wohnungen\"].mean()"
   ]
  },
  {
   "cell_type": "code",
   "execution_count": null,
   "metadata": {},
   "outputs": [],
   "source": [
    "df[\"Delta VJ\"].std()"
   ]
  },
  {
   "cell_type": "markdown",
   "metadata": {},
   "source": [
    "### Time Series (dt. Zeitreihen)"
   ]
  },
  {
   "cell_type": "code",
   "execution_count": null,
   "metadata": {},
   "outputs": [],
   "source": [
    "import numpy as np\n",
    "import pandas as pd\n",
    "import time\n",
    "import matplotlib.pyplot as plt\n",
    "\n",
    "ts = pd.Series(np.random.randn(1000), index=pd.date_range('1/1/2000', periods=1000))\n",
    "ts = ts.cumsum()\n",
    "ts.plot()"
   ]
  },
  {
   "cell_type": "code",
   "execution_count": null,
   "metadata": {},
   "outputs": [],
   "source": [
    "df = pd.DataFrame(np.random.randn(1000, 4), index=ts.index, columns=list('ABCD'))\n",
    "df = df.cumsum()\n",
    "plt.figure()\n",
    "df.plot()"
   ]
  },
  {
   "cell_type": "markdown",
   "metadata": {},
   "source": [
    "### Beschreibende Statistik\n",
    "\n",
    "Es gibt eine große Anzahl von Methoden zur Berechnung deskriptiver Statistiken und anderer damit zusammenhängender Vorgänge für `Series`, `DataFrame`. Die meisten davon sind Aggregationen, deshalb ein unterdimensionales Ergebnis wie `sum()`, `mean()` und `quantile()`, aber einige von ihnen, wie `cumsum()` und `cumprod()`, erzeugen ein Objekt gleicher Größe. Im Allgemeinen nehmen diese Methoden ein Achsen-Argument an, genau wie _ndarray.{sum, std, ...}_, aber die Achse kann nach Name oder Ganzzahl angegeben werden:\n",
    "\n",
    "- __Series:__ Kein Achsen-Argument erforderlich\n",
    "- __DataFrame:__ \"index\" (axis=0, default), \"columns\" (axis=1)\n",
    "\n",
    "\n",
    "Datenrahmen: \"Index\" (Achse = 0, Standard), \"Spalten\" (Achse = 1)\n",
    "\n",
    "**Weiterführendes Material:**  \n",
    "https://pandas.pydata.org/docs/user_guide/basics.html#descriptive-statistics  \n",
    "\n",
    "Beispiel:"
   ]
  },
  {
   "cell_type": "code",
   "execution_count": null,
   "metadata": {},
   "outputs": [],
   "source": [
    "data"
   ]
  },
  {
   "cell_type": "code",
   "execution_count": null,
   "metadata": {},
   "outputs": [],
   "source": [
    "data.mean(0)"
   ]
  }
 ],
 "metadata": {
  "interpreter": {
   "hash": "09fe2c33ca3717d95fdbe8e57a8f56c33ddceec7ac7f12e4ae3d38809f04f265"
  },
  "kernelspec": {
   "display_name": "Python 3 (ipykernel)",
   "language": "python",
   "name": "python3"
  },
  "language_info": {
   "codemirror_mode": {
    "name": "ipython",
    "version": 3
   },
   "file_extension": ".py",
   "mimetype": "text/x-python",
   "name": "python",
   "nbconvert_exporter": "python",
   "pygments_lexer": "ipython3",
   "version": "3.10.4"
  },
  "toc-autonumbering": false,
  "toc-showcode": false,
  "toc-showmarkdowntxt": false,
  "toc-showtags": false
 },
 "nbformat": 4,
 "nbformat_minor": 4
}
