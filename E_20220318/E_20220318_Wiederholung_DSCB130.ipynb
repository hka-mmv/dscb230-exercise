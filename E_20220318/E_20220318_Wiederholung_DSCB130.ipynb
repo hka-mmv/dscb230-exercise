{
 "cells": [
  {
   "cell_type": "markdown",
   "metadata": {},
   "source": [
    "# 1 | PROGRAMMIEREN - Fortsetzung zu Grundlagen der Programmiersprache Python\n",
    "## Kompakte Wiederholung der Programmier-Grundlagen aus der Vorlesung DSCB130"
   ]
  },
  {
   "cell_type": "markdown",
   "metadata": {},
   "source": [
    "### Eingabe, Verarbeitung und Ausgabe\n",
    "```python\n",
    "text = \"Hello World!\"\n",
    "text.reverse()\n",
    "print(text)\n",
    "\n",
    "\"Hello World!\"\n",
    "```"
   ]
  },
  {
   "cell_type": "code",
   "execution_count": null,
   "metadata": {},
   "outputs": [],
   "source": [
    "txt_forwards = \"Hello World!\"\n",
    "txt_reversed = \"Hello World\"[::-1]\n",
    "print(txt_reversed)"
   ]
  },
  {
   "cell_type": "markdown",
   "metadata": {},
   "source": [
    "### Syntax, Semantik und Pragmatik  \n",
    "\n",
    "**Syntax:** Im Kontext von Sprachen, Regeln, mit deren Hilfe sich ein sprachlich korrekt formulierter Satz aufbauen oder analysieren lässt.  \n",
    "Regeln über Rechtschreibung, Satzzeichen und Grammatik. Die Gesamtheit dieser Regeln bezeichnet man als die Syntax einer Sprache.  \n",
    "Die Syntax einer Programmiersprache muss streng formalisiert sein, da nur so eine maschinelle Verarbeitung von Programmen effizient durchgeführt werden kann.  Kurz: Diese Regeln bestimmen das Format von Daten.  \n",
    "\n",
    "**Semantik:** Interpretationsregeln, um die Bedeutung eines sprachlichen Ausdrucks zu verstehen.  \n",
    "Ein Programm kann syntaktisch richtig und von einem Compiler fehlerfrei übersetzt worden sein, aber dennoch unsinnige Resultate liefern, wenn es versteckte semantische Fehler enthält.  \n",
    "\n",
    "**Pragmatik:** Anwendung der Syntax auf Daten zu deren Verarbeitung in einer Programmiersprache. Betrachtung der Art von Informationen, die in der verwendeten Sprache ausgedrückt werden sollen.  \n",
    "Betrachung der Handlung bzw. Aktion, die ausgelöst werden soll. Bspw. Wert einer Variablen A wird einer Variablen B zugewiesen `A = B`, oder die Vergleichsoperation, zwei Größen A und B werden auf Gleichheit überprüft `A == B`."
   ]
  },
  {
   "cell_type": "markdown",
   "metadata": {},
   "source": [
    "### Variablen und Literale\n",
    "\n",
    "**Variablen** sind die Gedächtniszellen eines Programms.  \n",
    "\n",
    "Zur Erinnerung: Imperative Programme sind eine Folge von Anweisungen:\n",
    "- Rechenergebnisse \"leben\" nur in der Anweisung.\n",
    "- Braucht man ein Ergebnis länger, muss eine Gedächtniszelle beantragt werden: eine Variable.\n",
    "- Variablen haben einen **Datentyp**, kurz Typ.\n",
    "\n",
    "**Literale**  sind Zeichenfolgen, die nach bestimmten (zulässigen) Regeln aufgebaut sind. Werte werden durch Literale dargestellt und den Variablen zugewiesen."
   ]
  },
  {
   "cell_type": "code",
   "execution_count": null,
   "metadata": {},
   "outputs": [],
   "source": [
    "# Variablen und Literale\n",
    "\n",
    "x = 42          # Ganzzahl\n",
    "price = 39.90   # Dezimalzahl\n",
    "lecture_semester = \"DSCB230 Sommersemester 2022\" # Zeichenkette\n",
    "a = bool(True)  # Boolscher Wahrheitswert für wahr bzw. zutreffend bzw. 1\n",
    "b = bool(False) # Boolscher Wahrheitswert für unwahr bzw. unzutreffend bzw. 0\n",
    "t = None        # Spezieller Datentyp, der zu keinem  Objekt referenziert.\n",
    "lat_lon = 47,39"
   ]
  },
  {
   "cell_type": "markdown",
   "metadata": {},
   "source": [
    "Weitere Literale vom Typ Collection sind: Dictionaries, Lists, Sets und Tuples"
   ]
  },
  {
   "cell_type": "markdown",
   "metadata": {},
   "source": [
    "**Zulässige Variablennamen**  \n",
    "Ein Variablenname muss mit einem Buchstaben oder dem Unterstrich beginnen  \n",
    "Ein Variablenname kann nicht mit einer Zahl beginnen  \n",
    "Ein Variablenname kann nur alphanumerische Zeichen und Unterstriche enthalten (A-z, 0-9 und _)  \n",
    "Variablennamen sind zwischen Groß- und Kleinschreibung unterschieden (age, Age und AGE sind drei verschiedene Variablen)\n",
    "\n",
    "**Weitere Einschränkung für Variablennamen**  \n",
    "Python reserviert einen kleinen Satz von Schlüsselwörtern (***engl. keywords***), die spezielle Sprachfunktionen festlegen. Kein Objekt darf denselben Namen wie ein reserviertes Wort haben.\n",
    "\n",
    "```python\n",
    "import keyword\n",
    "print(keyword.kwlist)\n",
    "\n",
    "help(\"keywords\") # Alternativ\n",
    "```\n",
    "\n",
    "**Weiterführendes Material:**  \n",
    "https://docs.python.org/3/reference/lexical_analysis.html#keywords"
   ]
  },
  {
   "cell_type": "code",
   "execution_count": null,
   "metadata": {},
   "outputs": [],
   "source": [
    "import keyword\n",
    "print(keyword.kwlist)"
   ]
  },
  {
   "cell_type": "code",
   "execution_count": null,
   "metadata": {},
   "outputs": [],
   "source": [
    "help(\"keywords\")"
   ]
  },
  {
   "cell_type": "markdown",
   "metadata": {},
   "source": [
    "### Ausgabe von Benutzervariablen\n",
    "Die Funktion `%who` listet alle aktuellen benutzerdefinierten Variablen auf.\n",
    "Hierzu wird ein sog. Magic-Command mit dem Namen `who` ausgeführt."
   ]
  },
  {
   "cell_type": "code",
   "execution_count": null,
   "metadata": {},
   "outputs": [],
   "source": [
    "%who"
   ]
  },
  {
   "cell_type": "code",
   "execution_count": null,
   "metadata": {},
   "outputs": [],
   "source": [
    "name_temp = \"Joe\""
   ]
  },
  {
   "cell_type": "markdown",
   "metadata": {},
   "source": [
    "### Variablen Namen erstellen\n",
    "Die am häufigsten verwendeten Methoden zum Erstellen eines Variablennamens mit mehreren Wörtern sind:\n",
    "\n",
    "- **Camel Case:** Zweite und nachfolgende Wörter werden großgeschrieben, um die Erkennung von Wortgrenzen zu erleichtern.  \n",
    "Beispiel: numberOfCollegeGraduates\n",
    "\n",
    "- **Pascal Case:** Identisch mit Camel Case, außer dass das erste Wort auch groß geschrieben wird.  \n",
    "Beispiel: NumberOfCollegeGraduates\n",
    "\n",
    "- **Snake Case:** Worte sind durch Unterstriche getrennt.  \n",
    "Beispiel: number_of_college_graduates"
   ]
  },
  {
   "cell_type": "markdown",
   "metadata": {},
   "source": [
    "**Weiterführendes Material:**  \n",
    "https://realpython.com/python-variables/  \n",
    "https://docs.python.org/3/reference/lexical_analysis.html#literals"
   ]
  },
  {
   "cell_type": "markdown",
   "metadata": {},
   "source": [
    "### Kommentare und Konventionen\n",
    "\n",
    "**Kommentare**  \n",
    "Ein Kommentar beginnt mit einem Hash-Zeichen (#), das nicht Teil eines Zeichenfolgenwörtlichs ist, und endet am Ende der physischen Zeile.  \n",
    "Ein Kommentar bedeutet das Ende der logischen Zeile, es sei denn, die impliziten Zeilenverbindungsregeln werden aufgerufen.  \n",
    "Kommentare werden von der Syntax ignoriert. \n",
    "\n",
    "```python\n",
    "# Dies ist ein Kommentar\n",
    "print (\"Diese Zeichenkette wird ausgegeben.\") # Dieser Kommentar nicht\n",
    "\n",
    "# Ein\n",
    "# mehrzeiliger Kommentar\n",
    "# beginnt in jeder\n",
    "# Zeile mit einem Hash-Zeichen.\n",
    "\n",
    "\"\"\"\n",
    "Jedes Zeichen innerhalb dieser drei Anführungszeichen ist ebenfalls ein einzeiliger\n",
    "oder mehrzeiliger Kommentar.\n",
    "\"\"\"\n",
    "```\n",
    "\n",
    "**Konventionen**  \n",
    "Das Style Guide für Python Code, auch als **PEP 8** bekannt, enthält Namenskonventionen, in denen vorgeschlagene Standards für Namen verschiedener Objekttypen aufgeführt sind. PEP 8 enthält die folgenden Empfehlungen:\n",
    "\n",
    "- Snake Case sollte für Funktionen und Variablennamen verwendet werden.  \n",
    "- Pascal Case sollte für Klassennamen verwendet werden. PEP 8 bezeichnet dies als die \"CapWords\"-Konvention.\n",
    "\n",
    "Mehr zum Thema Konventionen und PEP 8 folgt im Lauf der Vorlesung."
   ]
  },
  {
   "cell_type": "markdown",
   "metadata": {},
   "source": [
    "### Ein- und Ausgabefunktionen"
   ]
  },
  {
   "cell_type": "code",
   "execution_count": null,
   "metadata": {},
   "outputs": [],
   "source": [
    "msg_in = input(\"Geben Sie eine Nachricht ein:\")\n",
    "print(msg_in)\n",
    "\n",
    "name = input(\"Wie heißen Sie?\")\n",
    "print (\"Guten Tag,\", name,\"\\nFreut mich Sie kennenzulernen.\")"
   ]
  },
  {
   "cell_type": "markdown",
   "metadata": {},
   "source": [
    "> **Anmerkung**\\\n",
    "> `input()` gibt immer einen String zurück. Wenn Sie einen numerischen Typ wünschen, müssen Sie den String mit den integrierten Funktionen int(), float(), bool() oder complex() in den entsprechenden Typ konvertieren."
   ]
  },
  {
   "cell_type": "code",
   "execution_count": null,
   "metadata": {},
   "outputs": [],
   "source": [
    "schuhgroeße = float(input(\"Welche Schugröße haben Sie?\"))\n",
    "print(schuhgroeße)\n",
    "\n",
    "type(schuhgroeße)"
   ]
  },
  {
   "cell_type": "markdown",
   "metadata": {},
   "source": [
    "**Weiterführendes Material:**  \n",
    "https://realpython.com/python-input-output/  \n",
    "https://realpython.com/python-print/"
   ]
  },
  {
   "cell_type": "markdown",
   "metadata": {},
   "source": [
    "### Basis Datentypen und deren Umwandlung\n",
    "Sie weisen einer Variablen einen bestimmen Wertebereich zu und bezeichnen die Zusammenfassung konkreter Wertebereiche sowie die darauf definierten Operationen zu einer Einheit.\\\n",
    "Beispiele können Ganz- oder Kommazahlen, Zeichenketten oder auch komplexere Typen wie Datum/Zeit oder Objekte sein.\\\n",
    "Zur Unterscheidung wird für diese Datentypen in der Literatur auch der Begriff Konkreter bzw. Standard Datentyp verwendet.\n",
    "\n",
    "Python hat standardmäßig die folgenden Datentypen in diesen Kategorien eingebaut:\n",
    "\n",
    "```python\n",
    "Text:       str  \n",
    "Numerisch:  int, float, complex  \n",
    "Sequenz:    list, tuple, range  \n",
    "Zuordnung:  dict  \n",
    "Satz:       set, frozenset  \n",
    "Boolean:    bool  \n",
    "Binär:      bytes, bytearray, memoryview  \n",
    "```\n",
    "\n",
    "Ganzzahlen: `13`, `-34`  \n",
    "Gleitkommazahlen: `12.45`, `-12.3E08`  \n",
    "Zeichenketten: `\"Ein Text so\", 'oder so'`  \n",
    "Wahrheitswerte aus der boolesches Algebra: `TRUE` (1), `FALSE` (0)"
   ]
  },
  {
   "cell_type": "markdown",
   "metadata": {},
   "source": [
    "### Ermitteln eines Datentyps\n",
    "Ausgabe des Datentyps der Variable x:"
   ]
  },
  {
   "cell_type": "code",
   "execution_count": null,
   "metadata": {},
   "outputs": [],
   "source": [
    "x = 5\n",
    "type(x)"
   ]
  },
  {
   "cell_type": "code",
   "execution_count": null,
   "metadata": {},
   "outputs": [],
   "source": [
    "# Weitere Beispiele\n",
    "i = 13\n",
    "d = 12.45\n",
    "s = \"Ein Text so\"\n",
    "b = bool(True)\n",
    "\n",
    "bez = \"ist vom Typ\"\n",
    "\n",
    "print(i,bez, type(i))\n",
    "print(d,bez, type(d))\n",
    "print(s,bez, type(s))\n",
    "print(b,bez, type(b))"
   ]
  },
  {
   "cell_type": "markdown",
   "metadata": {},
   "source": [
    "**Weiterführendes Material:**  \n",
    "https://docs.python.org/3/library/stdtypes.html"
   ]
  },
  {
   "cell_type": "markdown",
   "metadata": {},
   "source": [
    "### Operatoren und Ausdrücke"
   ]
  },
  {
   "cell_type": "markdown",
   "metadata": {},
   "source": [
    "Operatoren werden verwendet, um Operationen an Variablen und Werten durchzuführen.  \n",
    "Im folgenden Beispiel verwenden wir den Operator +, um zwei Werte zusammenzufügen:"
   ]
  },
  {
   "cell_type": "code",
   "execution_count": null,
   "metadata": {},
   "outputs": [],
   "source": [
    "print(18 + 3)"
   ]
  },
  {
   "cell_type": "markdown",
   "metadata": {},
   "source": [
    "Python unterscheidet Operatoren in die folgenden Gruppen:\n",
    "- Arithmetikoperatoren: + - * / % ** //\n",
    "- Zuweisungsoperatoren: = += -= *= /= %= //= **= &= |= ^= >>= <<=\n",
    "- Vergleichsoperatoren: == != > < >= <=\n",
    "- Logische Operatoren: and or not\n",
    "- Identitäts-Operatoren: is is not\n",
    "- Zugehörigkeits-Operatoren: in not in\n",
    "- Bitweise Operatoren: & | ^ ~ << >>\n",
    "\n",
    "**Weiterführendes Material:**  \n",
    "https://docs.python.org/3/library/operator.html#mapping-operators-to-functions  \n",
    "https://www.w3schools.com/python/python_operators.asp"
   ]
  },
  {
   "cell_type": "code",
   "execution_count": null,
   "metadata": {},
   "outputs": [],
   "source": [
    "x = 0\n",
    "# x = x + 2\n",
    "\n",
    "x += 2\n",
    "print(x)"
   ]
  },
  {
   "cell_type": "markdown",
   "metadata": {},
   "source": [
    "### Verarbeitung von Zeichenketten\n",
    "In Python sind Zeichenketten Felder von Bytes, die Unicode-Zeichen darstellen. Python hat jedoch keinen Zeichendatentyp, ein einzelnes Zeichen ist einfach eine Zeichenfolge mit einer Länge von 1. Mit eckigen Klammern können Sie auf Elemente der Zeichenfolge zugreifen.  \n",
    "Python verfügt über eine Reihe integrierter Methoden, die Sie für Zeichenfolgen verwenden können.  \n",
    "\n",
    "**Auswahl:**"
   ]
  },
  {
   "cell_type": "code",
   "execution_count": null,
   "metadata": {},
   "outputs": [],
   "source": [
    "# Erster Buchstabe groß\n",
    "\n",
    "txt = \"python is awesome!\"\n",
    "txt.capitalize()\n",
    "'Python is awesome!'\n",
    "\n",
    "# Alles in Großbuchstaben\n",
    "txt = \"Python is awesome!\"\n",
    "txt.upper()\n",
    "'PYTHON IS AWESOME!'\n",
    "\n",
    "# Alles in Kleinbuchstabe\n",
    "txt = \"PYTHON IS AWESOME!\"\n",
    "txt.lower()\n",
    "'python is awesome!'\n",
    "\n",
    "# Prüfen auf Großbuchstaben\n",
    "txt = \"PYTHON IS AWESOME!\"\n",
    "txt.isupper()\n",
    "\n",
    "# Prüfen auf Kleinbuchstabe\n",
    "txt = \"PYTHON IS AWESOME!\"\n",
    "txt.islower()\n",
    "\n",
    "# Prüfen auf numerischen Datentyp\n",
    "\n",
    "# Beispiel 1\n",
    "txt = \"Python\"\n",
    "print(txt.isnumeric())\n",
    "\n",
    "# Prüfen der Zeichen auf Vorhandensein im Alphabet\n",
    "print(\"Prüfen der Zeichen auf Vorhandensein im Alphabet:\",txt.isalpha())\n",
    "\n",
    "# Prüfen, ob alle Zeichen alphanumerisch sind, also Buchstabe oder Zahl\n",
    "print(txt.isalnum())\n",
    "\n",
    "# Zählt die Anzahl der Vorkommen des angegebenen Zeichens in einer Zeichenfolge.\n",
    "txt = \"Data science\"\n",
    "print(\"Zählt die Anzahl der Vorkommen des Zeichens 'e' in der Zeichenfolge\", txt,\":\",txt.count(\"e\"))\n",
    "\n",
    "# Index des ersten Auftretens des angegebenen Zeichens in einer Zeichenfolge zurück geben\n",
    "txt = \"Data science\"\n",
    "print(txt.find(\"a\"))\n",
    "\n",
    "# Auch das zweite oder andere Vorkommen eines Charakters finden\n",
    "txt.find(\"a\", 2)\n",
    "\n",
    "# Wenn wir eine Folge von Zeichen übergeben, gibt die Suchmethode den Index zurück, in dem die Sequenz beginnt.\n",
    "txt.find(\"sci\")\n",
    "\n",
    "# Prüfen, ob eine Zeichenfolge mit dem angegebenen Zeichen beginnt. Wir können diese Methode als Filter in einer List Comprehension (*NEU*) verwenden.\n",
    "mylist = [\"John\", \"James,\", \"Judy\", \"Jane\", \"Emily\", \"Jack\", \"Ashley\", \"Jonah\"]\n",
    "j_list = [name for name in mylist if name.startswith(\"J\")]\n",
    "j_list\n",
    "\n",
    "# Prüfen, ob eine Zeichenfolge mit dem angegebenen Zeichen endet.\n",
    "txt = \"Python\"\n",
    "txt.endswith(\"n\")\n",
    "\n",
    "# Sowohl die endswith- als auch die startswith-Methode sind zwischen Groß- und Kleinschreibung unterschieden.\n",
    "txt = \"Python\"\n",
    "txt.startswith(\"p\")\n",
    "\n",
    "txt.startswith(\"P\")\n",
    "\n",
    "# Ersetzen einer Zeichenfolge oder eines Teils davon durch die angegebenen Zeichen.\n",
    "txt = \"Python is awesome!\"\n",
    "\n",
    "txt = txt.replace(\"Python\", \"Data Science\")\n",
    "print(txt)\n",
    "\n",
    "# Teilen einer Zeichenfolge in seine einzelnen Worte. Ergebnis ist eine Liste an Worten.\n",
    "txt = \"Data Science is awesome!\"\n",
    "txt.split()\n",
    "\n",
    "# Unterteilen einer Zeichenkette in 3 Teile und Rückgabe eines Tupels, das diese Teile enthält.\n",
    "txt = \"Python is awesome!\"\n",
    "txt.partition(\"is\")\n",
    "\n",
    "txt = \"Python is awesome and it is easy to learn.\"\n",
    "txt.partition(\"and\")\n",
    "\n",
    "\"\"\"\n",
    "Die Partitionsmethode gibt genau 3 Teile zurück.\n",
    "Wenn das für die Partitionierung verwendete Zeichen mehrfach vorkommt, wird das erste berücksichtigt.\n",
    "\"\"\"\n",
    "txt = \"Python and data science and machine learning\"\n",
    "txt.partition(\"and\")\n",
    "\n",
    "\"\"\"\n",
    "Eine ähnliche Operation können wir auch mit der Split-Methode durchführen, indem wir die Anzahl der Splits begrenzen.\n",
    "Es gibt jedoch einige Unterschiede.\n",
    "Die Split-Methode gibt eine Liste zurück.\n",
    "Die zurückgegebene Liste enthält nicht die Zeichen, die zum Teilen verwendet werden.\n",
    "\"\"\"\n",
    "txt = \"Python and data science and machine learning\"\n",
    "txt.split(\"and\", 1)\n",
    "\n",
    "# Die Join-Methode kombiniert die Zeichenketten in einer Sammlung zu einer einzelnen Zeichenkette.\n",
    "mylist = [\"Jane\", \"John\", \"Matt\", \"James\"]\n",
    "\"-\".join(mylist)\n",
    "\n",
    "# Obiges Beispiel mit Tupel\n",
    "mytuple = (\"Data Science\", \"Machine learning\")\n",
    "\" and \".join(mytuple)"
   ]
  },
  {
   "cell_type": "code",
   "execution_count": null,
   "metadata": {},
   "outputs": [],
   "source": [
    "print(txt.isalpha())"
   ]
  },
  {
   "cell_type": "markdown",
   "metadata": {},
   "source": [
    "### Module einbinden"
   ]
  },
  {
   "cell_type": "code",
   "execution_count": null,
   "metadata": {},
   "outputs": [],
   "source": [
    "import platform\n",
    "\n",
    "x = platform.system()\n",
    "print(x)\n",
    "\n",
    "# Auflisten aller definierten Namen des Plattformmoduls, auch der selbst erstellten.d\n",
    "x = dir(platform)\n",
    "print(x)\n",
    "\n",
    "# Weiteres Beispiel\n",
    "import math\n",
    "\n",
    "x = math.ceil(1.4)\n",
    "y = math.floor(1.4)\n",
    "\n",
    "print(x) # returns 2\n",
    "print(y) # returns 1\n",
    "\n",
    "x = math.pi\n",
    "print(x)\n",
    "\n",
    "import datetime\n",
    "x = datetime.datetime.now()\n",
    "print(x)"
   ]
  },
  {
   "cell_type": "markdown",
   "metadata": {},
   "source": [
    "**Code prüfen, ob die Zeichenfolge nur hexadezimale Zeichen enthält.**"
   ]
  },
  {
   "cell_type": "code",
   "execution_count": null,
   "metadata": {},
   "outputs": [],
   "source": [
    "# import string library function\n",
    "import string\n",
    "\t\n",
    "# Storing the value in variable result\n",
    "result = string.hexdigits\n",
    "\t\n",
    "# Printing the value\n",
    "print(result)\n",
    "def check(value): \n",
    "    for letter in value: \n",
    "             \n",
    "        # If anything other than hexdigit \n",
    "        # letter is present, then return \n",
    "        # False, else return True \n",
    "        if letter not in string.hexdigits: \n",
    "            return False\n",
    "    return True\n",
    "     \n",
    "# Driver Code \n",
    "input1 = \"0123456789abcdef\"\n",
    "print(input1, \"--> \",  check(input1)) \n",
    "     \n",
    "input2 = \"abcdefABCDEF\"\n",
    "print(input2, \"--> \", check(input2)) \n",
    "     \n",
    "input3 = \"abcdefghGEEK\"\n",
    "print(input3, \"--> \", check(input3)) "
   ]
  },
  {
   "cell_type": "markdown",
   "metadata": {},
   "source": [
    "### Zahlen (Ganzzahlen und Gleitkomma)\n",
    "\n",
    "**Grundlegende Einheiten**\n",
    "- Kleinste digitale Informationseinheit **Bit**\n",
    "- Bekannteste und meist verwendete Informationseinheit **Byte**\n",
    "> 1 Byte = 8 Bit\n",
    "- größter Zahlenwert 2 = 256dez\n",
    "\n",
    "**Ganzzahlen**  \n",
    "`int` 1, 2, 3, etc.\n",
    "\n",
    "**Gleitkommazahlen**  \n",
    "`float` 0.1, 0.2, 0.3, etc.\n",
    "\n",
    "***Probleme***"
   ]
  },
  {
   "cell_type": "code",
   "execution_count": null,
   "metadata": {},
   "outputs": [],
   "source": [
    "round(.1, 1) + round(.1, 1) + round(.1, 1) == round(.3, 1)"
   ]
  },
  {
   "cell_type": "markdown",
   "metadata": {},
   "source": [
    "### Boolesche Ausdrücke\n",
    "Boolesche Werte repräsentieren einen von zwei Werten: Richtig oder Falsch. `True` oder `False`.\n",
    "Boolean type `bool` basiert auf Unterklasse von `int`. Deshalb: True 1 und False 0.\n"
   ]
  },
  {
   "cell_type": "code",
   "execution_count": null,
   "metadata": {},
   "outputs": [],
   "source": [
    "issubclass(bool, int)"
   ]
  },
  {
   "cell_type": "code",
   "execution_count": null,
   "metadata": {},
   "outputs": [],
   "source": [
    "type(False)"
   ]
  },
  {
   "cell_type": "code",
   "execution_count": null,
   "metadata": {},
   "outputs": [],
   "source": [
    "is_summer = bool(0)\n",
    "print(is_summer)\n",
    "\n",
    "print(10 > 9)\n",
    "print(10 == 9)\n",
    "print(10 < 9)"
   ]
  },
  {
   "cell_type": "markdown",
   "metadata": {},
   "source": [
    "### Entscheidungslogik (if, elif, else)"
   ]
  },
  {
   "cell_type": "code",
   "execution_count": null,
   "metadata": {},
   "outputs": [],
   "source": [
    "a = 200\n",
    "b = 33\n",
    "\n",
    "if b > a:\n",
    "  print(\"b is greater than a\")\n",
    "else:\n",
    "  print(\"b is not greater than a\")\n"
   ]
  },
  {
   "cell_type": "markdown",
   "metadata": {},
   "source": [
    "### For- und While- Schleifen"
   ]
  },
  {
   "cell_type": "markdown",
   "metadata": {},
   "source": [
    "### Break, Continue und Pass"
   ]
  },
  {
   "cell_type": "markdown",
   "metadata": {},
   "source": [
    "### Funktionen"
   ]
  },
  {
   "cell_type": "markdown",
   "metadata": {},
   "source": [
    "### Funktionsargumente"
   ]
  },
  {
   "cell_type": "markdown",
   "metadata": {},
   "source": [
    "### Anonyme Funktionen"
   ]
  },
  {
   "cell_type": "markdown",
   "metadata": {},
   "source": [
    "### Datenstrukturen List, Tuple, String, Set, Dictionary"
   ]
  },
  {
   "cell_type": "markdown",
   "metadata": {},
   "source": [
    "### Scope und Lifetime von Variablen"
   ]
  },
  {
   "cell_type": "markdown",
   "metadata": {},
   "source": [
    "### Dateien und Verzeichnisse"
   ]
  }
 ],
 "metadata": {
  "kernelspec": {
   "display_name": "Python 3 (ipykernel)",
   "language": "python",
   "name": "python3"
  },
  "language_info": {
   "codemirror_mode": {
    "name": "ipython",
    "version": 3
   },
   "file_extension": ".py",
   "mimetype": "text/x-python",
   "name": "python",
   "nbconvert_exporter": "python",
   "pygments_lexer": "ipython3",
   "version": "3.9.7"
  },
  "toc-autonumbering": false
 },
 "nbformat": 4,
 "nbformat_minor": 4
}
