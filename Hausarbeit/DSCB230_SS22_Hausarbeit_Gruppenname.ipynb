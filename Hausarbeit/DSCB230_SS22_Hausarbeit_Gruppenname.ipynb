{
 "cells": [
  {
   "cell_type": "markdown",
   "id": "48b3f54c-3ed1-407e-ab25-5fbf84acdc1b",
   "metadata": {},
   "source": [
    "__DSCB230 Sommersemster 2022__\n",
    "# Hausarbeit - Datenauswertung am Beispiel _eines Business-Anwendungsfalls_"
   ]
  },
  {
   "cell_type": "markdown",
   "id": "bf37b86b-b9d7-4081-a53a-afa65ac560d3",
   "metadata": {},
   "source": [
    "Gruppe | Studierende 1 | Studierende 2 | Studierende 3 | Studierende 4 |\n",
    "------ | ------ | ------ | ------ | ------ |\n",
    "`Gruppenname` | `Vorname Name` | `Vorname Name` | `Vorname Name` | `Vorname Name` |"
   ]
  },
  {
   "cell_type": "markdown",
   "id": "d486d432-bd92-485e-8f25-9d6f19208480",
   "metadata": {},
   "source": [
    "## Lernziele\n",
    "1. Einblick in die Arbeitsweise agiler Projekte\n",
    "2. Erfahrungen in der arbeitsteiligen Gruppenarbeit\n",
    "3. Erheben und Realisieren von Anforderungen\n",
    "4. Durchführen einer Datenauswertung\n",
    "5. Präsentieren der Ergebnisse vor einer Gruppe"
   ]
  },
  {
   "cell_type": "markdown",
   "id": "28da700c-e714-447a-933a-1c67c1e4d169",
   "metadata": {},
   "source": [
    "## Lehrinhalte\n",
    "1. Den Business Case finden\n",
    "2. Datenerfassung und Data Engineering\n",
    "3. Datenmodellierung"
   ]
  },
  {
   "cell_type": "markdown",
   "id": "68929315-1123-471b-80ac-55dbe38d4575",
   "metadata": {},
   "source": [
    "## Ablauf\n",
    "- [ ] Gruppeneinteilung [Weblink](https://bwsyncandshare.kit.edu/s/3Tom6MQMSzNX4SF)\n",
    "- [ ] Kick-off\n",
    "- [ ] Statusmeetings 1-3\n",
    "- [ ] Präsentation, Lessons Learned, Abgabe [ILIAS](https://ilias.h-ka.de/goto.php?target=exc_561643&client_id=HSKA) "
   ]
  },
  {
   "cell_type": "markdown",
   "id": "08a5d9d6-5ea3-4534-ac7f-418ca3dbbf6e",
   "metadata": {},
   "source": [
    "### Kick-off (Projekt-Start)\n",
    "\n",
    "Ziele: Lernziele besprechen. Erwartungen klarstellen. Durchführung besprechen."
   ]
  },
  {
   "cell_type": "markdown",
   "id": "99ac9d8d-cd6f-4e4e-aaf7-3c7bc5d5dd38",
   "metadata": {},
   "source": [
    "### Statusmeetings (Sprint-Reviews)\n",
    "\n",
    "Ziel: Es geht hauptsächlich um die Art und Weise der Zusammenarbeit, um Herausforderungen und Verbesserungsmöglichkeiten.\n",
    "\n",
    "__Leitfragen:__\n",
    "- Dinge, die gut gelungen sind.\n",
    "- Dinge, die weniger gut gelaufen sind.\n",
    "- Dinge, die man direkt stoppen sollte.\n",
    "- Aspekte, die man ausprobieren könnte."
   ]
  },
  {
   "cell_type": "markdown",
   "id": "0ddc70c6-3c59-425f-8263-79ca535a1962",
   "metadata": {},
   "source": [
    "### Lessons Learned (Projekt-Review)\n",
    "\n",
    "Ziele: Gewonnene Erkenntnisse für die Beurteilung der Arbeitsergebnisse festhalten.\n",
    "\n",
    "Vorbereitung: Die Gruppe setzt sich zusammen, um wertvolle Erfahrungen zu identifizieren, sie zu analysieren und aus ihnen zu lernen.\n",
    "\n",
    "__Leitfragen:__\n",
    "- Was waren die angenehmsten Dinge?\n",
    "- Welches Problem bzw. welche Probleme sind aufgetreten?\n",
    "- Wie wurde mit Problemen und Unklarheiten umgegangen?\n",
    "- Welche Lösung wurde verwendet?\n",
    "- Welche Probleme konnten, nach eigenem Ermessen, besonders gut gelöst werden?\n",
    "- Welche Ergebnisse der Datenauswertung waren überraschend?\n",
    "- Welche Erkenntnisse konnten durch die Datenauswertung gewonnen werden?\n",
    "- Welche ihrer Erwartungen an die Erkenntnisse der Datenauswertung weichen ab?\n",
    "- Wie bewerten Sie selbst ihre Ergebnisse?\n",
    "- Welche Erwartung an die Hausarbeit wurde nicht erfüllt?"
   ]
  },
  {
   "cell_type": "markdown",
   "id": "a0786cf7-b241-4f10-a7af-08eb0a07b7f7",
   "metadata": {},
   "source": [
    "## Aufgabenstellung\n",
    "\n",
    "- Führen Sie eine Datenauswertung durch.\n",
    "- Orientieren Sie sich am vereinfachten Beispiel aus der Vorlesung.\n",
    "- Dokumentieren Sie Ihre Arbeit in diesem Dokument.\n",
    "- Verwenden Sie die [Markdown](https://www.markdownguide.org/cheat-sheet/)-Syntax um Ihre Arbeit leserlich zu gestalten."
   ]
  },
  {
   "cell_type": "markdown",
   "id": "54d1fd8f-461e-4d1a-bcee-c81d92ed488e",
   "metadata": {},
   "source": [
    "## Abschlusspräsentation\n",
    "\n",
    "- Termine: siehe Gruppeneinteilung [Weblink](https://bwsyncandshare.kit.edu/s/3Tom6MQMSzNX4SF)\n",
    "- Dauer: ca. 15 min\n",
    "- Ablauf:\n",
    "    - Gruppe präsentiert ihre Datenauswertung vor anderen Kommilitonen\n",
    "    - Wiedergabe der vorbereiteten Lessons Learned\n",
    "    - Upload aller Dokumete in ILIAS als Zip-Archiv  `DSCB230_SS22_Gruppenname.zip`\n"
   ]
  },
  {
   "cell_type": "markdown",
   "id": "17e6b63f-2f04-4b47-bd44-dd5ea2832fd8",
   "metadata": {},
   "source": [
    "## Bewertung\n",
    "\n",
    "Maximal 4,5 Punkte (5% der Klausurpunkte) als Startwert für die Klausur. Die Punkte erhalten alle Gruppenmitglieder. Sollte eine differenzierte Bewertung gewünscht sein, sprechen Sie bitte den Dozent an."
   ]
  }
 ],
 "metadata": {
  "kernelspec": {
   "display_name": "Python 3 (ipykernel)",
   "language": "python",
   "name": "python3"
  },
  "language_info": {
   "codemirror_mode": {
    "name": "ipython",
    "version": 3
   },
   "file_extension": ".py",
   "mimetype": "text/x-python",
   "name": "python",
   "nbconvert_exporter": "python",
   "pygments_lexer": "ipython3",
   "version": "3.9.7"
  },
  "toc-autonumbering": false,
  "toc-showmarkdowntxt": false
 },
 "nbformat": 4,
 "nbformat_minor": 5
}
