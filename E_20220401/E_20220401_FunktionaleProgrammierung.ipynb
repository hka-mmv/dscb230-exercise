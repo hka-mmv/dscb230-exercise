{
 "cells": [
  {
   "cell_type": "markdown",
   "id": "1e49c256-5109-4dda-8eb3-f710e116312e",
   "metadata": {},
   "source": [
    "# Funktionale Programmierung\n",
    "Dan Bader  \n",
    "https://realpython.com/lessons/functional-programming-course-overview/  "
   ]
  },
  {
   "cell_type": "markdown",
   "id": "c1b6363b-bcdc-4864-b727-d000ccbf3c22",
   "metadata": {},
   "source": [
    "Funktionale Programmierung ist ein Programmierparadigma, der Nebenwirkungen vermeidet, indem Berechnungen mit der Bewertung von Funktionen durchgeführt werden und sich stark auf unveränderliche Datenstrukturen stützt.  \n",
    "Mit diesem Programmierstil können Sie die Wahrscheinlichkeit von Fehlern reduzieren und sicherstellen, dass Ihre Programme einfacher zu warten sind.\n",
    "\n",
    "Hauptsächlich werden unveränderliche Datenstrukturen verwendet und es wird versucht, Nebenwirkungen zu vermeiden, indem  alle unsere Berechnungen unter Verwendung der Bewertung mathematischer Funktionen durchgeführt werden."
   ]
  },
  {
   "cell_type": "markdown",
   "id": "d6bd2666-1672-4ab5-8bb3-4db6e79bc74d",
   "metadata": {},
   "source": [
    "**Lernziele**\n",
    "- Gute Vorstellung davon haben, wie die Funktionen `filter()`, `map()`, und `reduce()` in Python verwendet werden können\n",
    "- Den Bezug zu einem funktionalen Programmierstil erkennen\n",
    "- Eine bessere Vorstellung der Funktionsweise von List Comprehensions und Generatorausdrücken und wie sie die genannten Funktionen ersetzen können\n"
   ]
  },
  {
   "cell_type": "markdown",
   "id": "c6b56272-cb70-4a50-b6ce-28adf0224227",
   "metadata": {},
   "source": [
    "## Unveränderliche Datenstrukturen"
   ]
  },
  {
   "cell_type": "markdown",
   "id": "5965e3c4-d76b-4da1-af62-13bf244f36d0",
   "metadata": {},
   "source": [
    "**Beispieldatensatz Wissenschaftler**\n",
    "\n",
    "| Name            | Field      | Born | Nobel Prize? |\n",
    "|-----------------|------------|------|--------------|\n",
    "| Ada Lovelace    | math       | 1815 | no           |\n",
    "| Emmy Noether    | math       | 1882 | no           |\n",
    "| Marie Curie     | physics    | 1867 | yes          |\n",
    "| Tu Youyou       | physics    | 1930 | yes          |\n",
    "| Ada Yonath      | chemistry  | 1939 | yes          |\n",
    "| Vera Rubin      | astronomy  | 1928 | no           |\n",
    "| Sally Ride      | physics    | 1951 | no           |"
   ]
  },
  {
   "cell_type": "markdown",
   "id": "bcda30b1-837b-4d8a-af33-4ac8c9b0a797",
   "metadata": {},
   "source": [
    "### Veränderliche Datenstrukturen: Listen und Dictionaries"
   ]
  },
  {
   "cell_type": "code",
   "execution_count": null,
   "id": "900c24a1-6c14-44d0-bb0e-45f073de471f",
   "metadata": {},
   "outputs": [],
   "source": [
    "# Dictionary\n",
    "scientists = [\n",
    "    {\"name\":\"Ada Lovelace\", \"field\":\"math\", \"born\":1815, \"nobel\": False},\n",
    "    {\"name\":\"Emmy Nöter\", \"field\":\"math\", \"born\":1882, \"nobel\": False},\n",
    "    ]\n",
    "print(scientists)"
   ]
  },
  {
   "cell_type": "code",
   "execution_count": null,
   "id": "ffe85719-02d5-4d21-a0b4-1536b7cad48b",
   "metadata": {},
   "outputs": [],
   "source": [
    "scientists[0][\"name\"]=\"Ed Lovelace\"\n",
    "print(scientists)"
   ]
  },
  {
   "cell_type": "markdown",
   "id": "036cdf8f-7b00-4c16-a235-bf65435005b9",
   "metadata": {},
   "source": [
    "### Unveränderliche Datenstruktur: namedtuple"
   ]
  },
  {
   "cell_type": "markdown",
   "id": "229e0c97-06ad-4a6c-83ee-e3bc5a63e201",
   "metadata": {},
   "source": [
    "Veränderliche Datenstrukture wie bspw. Listen haben die Eigenschaft, dass sie beliebig erweitert werden können, selbst ohne eine bestimmte inhaltliche Struktur zu wahren.   \n",
    "Anstatt der Dictionary Datenstruktur wird das Collections-Modul importiert. Im nächsten Schritt wird ein Scientist-Objekt - es ist eine Klasse - mit der Funktion ```collection.namedtuple()``` erstellt."
   ]
  },
  {
   "cell_type": "code",
   "execution_count": null,
   "id": "93e452fa-4d22-4ff2-bade-36137b4a02ad",
   "metadata": {},
   "outputs": [],
   "source": [
    "import collections\n",
    "Scientist = collections.namedtuple(\"Scientist\",[\n",
    "    \"name\",\n",
    "    \"field\",\n",
    "    \"born\",\n",
    "    \"nobel\",\n",
    "])\n",
    "Scientist"
   ]
  },
  {
   "cell_type": "code",
   "execution_count": null,
   "id": "f59ceaca-60b5-4aa1-9417-fe89994966ee",
   "metadata": {},
   "outputs": [],
   "source": [
    "Scientist(name=\"Ada Lovelace\", field=\"math\", born=1815, nobel=False) # Übergabe der Schlüsselwert-Argumente an den Konstruktor."
   ]
  },
  {
   "cell_type": "code",
   "execution_count": null,
   "id": "1019f378-74e3-4fab-9ded-7a0d2e7c49af",
   "metadata": {},
   "outputs": [],
   "source": [
    "ada = Scientist(name=\"Ada Lovelace\", field=\"math\", born=1815, nobel = False)\n",
    "ada.name # Zugriff auf das Attribut mit dem Punktoperator"
   ]
  },
  {
   "cell_type": "code",
   "execution_count": null,
   "id": "4f682813-f610-44ff-a3d4-dd9fba46e52d",
   "metadata": {},
   "outputs": [],
   "source": [
    "# Fehler AttributError: can't set attribute\n",
    "# Ein unveränderlicher Datensatz, wie hier in Form eines Tupels, kann nachträglich nicht geändert werden.\n",
    "ada.field\n",
    "ada.name = \"Ed Lovelace\""
   ]
  },
  {
   "cell_type": "markdown",
   "id": "fadfb96f-add1-4212-b6e5-4976bcfd15ed",
   "metadata": {},
   "source": [
    "### Gefahrenbereich: Vermischung von veränderlichen und unveränderlichen Datenstrukturen"
   ]
  },
  {
   "cell_type": "markdown",
   "id": "c2055894-17d8-4949-be9c-cee660107e41",
   "metadata": {},
   "source": [
    "In dieser Lektion werden Sie feststellen, dass die Verwendung einer Kombination aus veränderlichen und unveränderlichen Datenstrukturen immer noch zu Problemen führen kann.\n",
    "Selbst wenn Sie eine unveränderliche Datenstruktur wie `namedtuple` verwenden, besteht weiterhin die Gefahr, dass Sie Ihren Datensatz ändern, wenn Sie Ihre unveränderlichen Datenstrukturen in mutierten Datenstrukturen wie Listen speichern."
   ]
  },
  {
   "cell_type": "code",
   "execution_count": null,
   "id": "fcb0c64e-756c-43ad-b08e-91a7af7e418b",
   "metadata": {},
   "outputs": [],
   "source": [
    "# Liste von Wissenschaftlerinnen erstellen\n",
    "scientists = [\n",
    " Scientist(name=\"Ada Lovelace\", field=\"math\", born=1815, nobel=False),\n",
    " Scientist(name=\"Emmy Nöter\", field=\"math\", born=1882, nobel=False)]    "
   ]
  },
  {
   "cell_type": "markdown",
   "id": "456d6acb-0120-49ea-b5ef-cce315a0255b",
   "metadata": {},
   "source": [
    "**Pretty Print**"
   ]
  },
  {
   "cell_type": "code",
   "execution_count": null,
   "id": "338d0e78-8b75-4750-b68e-14860b241aa3",
   "metadata": {},
   "outputs": [],
   "source": [
    "from pprint import pprint # pprint ist ein pretty-print Modul \n",
    "pprint(scientists)"
   ]
  },
  {
   "cell_type": "code",
   "execution_count": null,
   "id": "6f0493d9-4c05-4e48-8ca6-12c1ddf21fee",
   "metadata": {},
   "outputs": [],
   "source": [
    "# Fehler AttributError: can't set attribute\n",
    "# Grund: Ein unveränderlicher Datensatz, wie hier in Form eines Tupels, kann nachträglich nicht geändert werden.\n",
    "# Obwohl er in einem veränderlichen Datensatz, der Liste von Liste von Wissenschaftlerinnen, gespeichert ist.\n",
    "scientists[0].name = \"Ed Lovalace\""
   ]
  },
  {
   "cell_type": "code",
   "execution_count": null,
   "id": "32323b72-c263-484c-835c-fc02d0aa8d71",
   "metadata": {},
   "outputs": [],
   "source": [
    "del scientists[0]\n",
    "scientists\n"
   ]
  },
  {
   "cell_type": "markdown",
   "id": "81a6dbee-acc1-4491-be2f-3f027544cb25",
   "metadata": {},
   "source": [
    "### Unveränderliche Datenstruktur: Tupel"
   ]
  },
  {
   "cell_type": "markdown",
   "id": "d79c924b-a05a-4c4d-b563-7b3b0627f07d",
   "metadata": {},
   "source": [
    "In der vorherigen Lektion haben Sie Ihre unveränderlichen Datenstrukturen `namedtuple` in einer veränderlichen `list`gespeichert. Jetzt sehen Sie, wie Sie diese Liste durch ein Tupel ersetzen können, das wie eine Liste ist, aber unveränderlich:"
   ]
  },
  {
   "cell_type": "code",
   "execution_count": null,
   "id": "6a638169-10ca-4ac4-a731-2b6111a89d60",
   "metadata": {},
   "outputs": [],
   "source": [
    "scientists = (\n",
    "    Scientist(name='Ada Lovelace', field='math', born=1815, nobel=False),\n",
    "    Scientist(name='Emmy Noether', field='math', born=1882, nobel=False),\n",
    "    Scientist(name='Marie Curie', field='physics', born=1867, nobel=True),\n",
    "    Scientist(name='Tu Youyou', field='pharmaceutical chemist', born=1930, nobel=True),\n",
    "    Scientist(name='Ada Yonath', field='chemistry', born=1939, nobel=True),\n",
    "    Scientist(name='Vera Rubin', field='chemistry', born=1928, nobel=False),\n",
    "    Scientist(name='Sally Ride', field='physics', born=1951, nobel=False),\n",
    ")"
   ]
  },
  {
   "cell_type": "code",
   "execution_count": null,
   "id": "dcf9e010-5011-46df-9704-bf88206faf85",
   "metadata": {},
   "outputs": [],
   "source": [
    "pprint(scientists)"
   ]
  },
  {
   "cell_type": "code",
   "execution_count": null,
   "id": "bea77375-fb29-4d00-aee8-c7bc337a83f2",
   "metadata": {},
   "outputs": [],
   "source": [
    "# Fehler: TypeError: 'tuple' object doesn't support item deletion\n",
    "# Durch die gegebene Datenstruktur ist ein Löschen über den Index nicht mehr möglich\n",
    "del scientists[0]"
   ]
  },
  {
   "cell_type": "code",
   "execution_count": null,
   "id": "a60dbe44-d710-4289-b79c-e3cfa019edc8",
   "metadata": {},
   "outputs": [],
   "source": [
    "# Datenzugriff über Index ist möglich\n",
    "scientists[0].name"
   ]
  },
  {
   "cell_type": "markdown",
   "id": "45e1fc95-dfe7-459b-9a23-c6bde5855a69",
   "metadata": {},
   "source": [
    "Sie möchten mit einer soliden Datenstruktur beginnen, die im Idealfall unveränderlich ist. Es wäre möglich, veränderliche Dictionaries oder Listen zu verwendenönnten. Jedoch, so der Autor, sei es ein großer Vorteil, darüber nachzudenken, wie Sie Ihre Datenstrukturen unveränderlich halten können, wenn Sie versuchen, mit einem funktionalen Programmierstil zu arbeiten.\n",
    "\n",
    "Durch die gezeigten Beispiele sollte der Nutzen deutlich gemacht werden. Es wird offensichtlicher, wenn wir die folgenden Beispiele durcharbeiten und die Grundlagen der Funktionalen Programmierung mit der `filter()`-Funktionm, der `map()`-Funktion und der `reduce()`-Funktion kennenlernen und wie diese einigen anderen Dingen entsprechen, die tatsächlich in Python integriert sind, wie z. B. List Comprehensions, vgl. https://docs.python.org/3/tutorial/datastructures.html?list-comprehensions#list-comprehensions"
   ]
  },
  {
   "cell_type": "markdown",
   "id": "36b9c7ab-52b5-4ba1-8333-b43336f86b47",
   "metadata": {
    "tags": []
   },
   "source": [
    "## Die `filter()`-Funktion"
   ]
  },
  {
   "cell_type": "markdown",
   "id": "745210a2-4dd5-42ce-9c8e-756a24bb0259",
   "metadata": {
    "tags": []
   },
   "source": [
    "### Übersicht\n",
    "**Verwendung: Transformieren von Datenstrukturen**\n",
    "\n",
    "Die `filter()`-Funktion ist integriert in Python und verfügt möglicherweise über ein etwas kompliziertes Docstring.\n",
    "\n",
    "Die Funktion gibt einen Iterator zurückgibt, der diejenigen Elemente enthält, für die `function(item)` wahr ist. Wenn diese Funktion ohne Objekt ist, also None, dann gibt der Filter die Elemente zurück, die wahr sind."
   ]
  },
  {
   "cell_type": "code",
   "execution_count": null,
   "id": "edb5de3f-c55b-47a1-a48b-b7d68eece37e",
   "metadata": {},
   "outputs": [],
   "source": [
    "help() # filter"
   ]
  },
  {
   "cell_type": "markdown",
   "id": "658f86ad-4bd6-4c00-9735-5fd2bd77a2a4",
   "metadata": {},
   "source": [
    "### Anwendungsbeispiel\n",
    "\n",
    "Wir wollen eine `filter()`-Funktion schreiben, die alle Wissenschaftler in der verwendeten Liste ausgibt oder tatsächlich eine neue Liste von Wissenschaftlern ausgibt, die den Nobelpreis gewonnen haben."
   ]
  },
  {
   "cell_type": "code",
   "execution_count": null,
   "id": "e6a30232-2dab-45d8-8903-3f565ffa51be",
   "metadata": {},
   "outputs": [],
   "source": [
    "filter(lambda x: x.nobel is True, scientists)"
   ]
  },
  {
   "cell_type": "code",
   "execution_count": null,
   "id": "69bfec26-ee88-4c01-a36b-6e3ffefa4f63",
   "metadata": {},
   "outputs": [],
   "source": [
    "fs = filter(lambda x: x.nobel is True, scientists)"
   ]
  },
  {
   "cell_type": "code",
   "execution_count": null,
   "id": "28210d3b-bd92-4230-96c4-ddff27a09ec5",
   "metadata": {},
   "outputs": [],
   "source": [
    "next(fs)"
   ]
  },
  {
   "cell_type": "markdown",
   "id": "bb2c4e76-8a7b-4824-9177-10188a86d9e0",
   "metadata": {},
   "source": [
    "### Gefilterte Daten in ein Tupel speichern"
   ]
  },
  {
   "cell_type": "code",
   "execution_count": null,
   "id": "17d89d4d-0324-457f-9c70-0d9a03e82c9e",
   "metadata": {},
   "outputs": [],
   "source": [
    "tuple(filter(lambda x: x.nobel is True, scientists))"
   ]
  },
  {
   "cell_type": "code",
   "execution_count": null,
   "id": "3328e098-2ce6-476e-8319-5b8807b53a9d",
   "metadata": {},
   "outputs": [],
   "source": [
    "fs = tuple(filter(lambda x: x.nobel is True, scientists))"
   ]
  },
  {
   "cell_type": "code",
   "execution_count": null,
   "id": "4d9b303c-6a93-4d35-9030-1f6c2d7a59dc",
   "metadata": {},
   "outputs": [],
   "source": [
    "pprint(fs)"
   ]
  },
  {
   "cell_type": "code",
   "execution_count": null,
   "id": "11003492-d361-498f-afd9-a6c03a603c5d",
   "metadata": {},
   "outputs": [],
   "source": [
    "# Allgemeine Definition einer Filter-Funktion\n",
    "pprint(tuple(filter(lambda x: True, scientists)))"
   ]
  },
  {
   "cell_type": "code",
   "execution_count": null,
   "id": "fa69ec7e-c49a-47e2-b8e9-958b0e1b19db",
   "metadata": {},
   "outputs": [],
   "source": [
    "# Strengere Filter\n",
    "pprint(tuple(filter(lambda x: x.field == \"physics\", scientists)))"
   ]
  },
  {
   "cell_type": "code",
   "execution_count": null,
   "id": "a5ff7f50-14a8-41cf-b6d8-9fe7a5af5d8a",
   "metadata": {},
   "outputs": [],
   "source": [
    "pprint(tuple(filter(lambda x: x.field == \"physics\" and x.nobel, scientists)))"
   ]
  },
  {
   "cell_type": "markdown",
   "id": "61272f65-ab5c-437b-8c2f-225ca41edfab",
   "metadata": {},
   "source": [
    "### Nutzen der `filter()`-Funktion"
   ]
  },
  {
   "cell_type": "markdown",
   "id": "c21fff8b-2122-464f-a3ab-f9efc2998b63",
   "metadata": {},
   "source": [
    "**Alternative zur `filter()`-Funktion**"
   ]
  },
  {
   "cell_type": "code",
   "execution_count": null,
   "id": "bca65064-e098-4bb6-bd7e-218aa2fdcd00",
   "metadata": {},
   "outputs": [],
   "source": [
    "for x in scientists:\n",
    "    if x.nobel is True:\n",
    "        print(x)"
   ]
  },
  {
   "cell_type": "markdown",
   "id": "e508ee4c-d476-47ba-97e4-d9a41d0bafe4",
   "metadata": {},
   "source": [
    "Die `for`-Schleife liefert das gleiche Ergebnis wie die `filter()`-Funktion.  \n",
    "Vorteil der `filter`-Funktion ist, dass eine einfache Verkettung von weiteren Filter-Kriterien möglich ist und diese Transformationen auf rein funktionale Weise angewendet werden kann.  \n",
    "\n",
    "Wir iterieren über eine Liste, wir haben diese Nebenwirkungen, wir geben Werte aus."
   ]
  },
  {
   "cell_type": "markdown",
   "id": "9f253ca8-9f75-4a70-b2ab-74d9a531fcf5",
   "metadata": {},
   "source": [
    "Betrachten wir diese Anweisung:  \n",
    "\n",
    "```python\n",
    "pprint(tuple(filter(lambda x: x.field == \"physics\" and x.nobel, scientists)))\n",
    "```\n",
    "\n",
    "Hier werden schlicht einige Funktionen aufgerufen.  \n",
    "In gewisser Weise erscheint diese komplizierter zu sein, als einfache Schleife zu verwenden, aber wirklich schöne daran ist ihre deklarative Eigenschaft.\n",
    "\n",
    "**Erläuterung der `filter`-Anweisung**  \n",
    "- Wir nehmen die Liste von\n",
    "```python\n",
    "scientists\n",
    "```\n",
    "- wenden die `filter`-Funktion an\n",
    "```python\n",
    "lambda x: x.field == \"physics\" and x.nobel\n",
    "```\n",
    "- stellen sicher, dass wir am Ende eine Liste haben. In diesem Fall die Datenstruktur Tupel\n",
    "```python\n",
    "tuple()\n",
    "```\n",
    "- und geben diese aus.\n",
    "```python\n",
    "pprint()\n",
    "```\n",
    "\n",
    "Diese lange Kette von Funktionsaufrufen ermöglicht es uns, diese Transformation hier in einer einzigen Zeile durchzuführen.  Und das sind alles kleine Bausteine, die  einfach in verschiedenen Kontexten wiederverwendet werden können."
   ]
  },
  {
   "cell_type": "markdown",
   "id": "e62858be-6769-4aa5-bbe4-a59a19e09711",
   "metadata": {},
   "source": [
    "**Weiteres Beispiel: Separate Funktion `nobel_filter()`**"
   ]
  },
  {
   "cell_type": "code",
   "execution_count": null,
   "id": "0e60ce3e-cab5-429d-b2bf-e5c3a7d37b59",
   "metadata": {},
   "outputs": [],
   "source": [
    "def nobel_filter(x):\n",
    "    return x.nobel is True\n",
    "\n",
    "pprint(tuple(filter(nobel_filter, scientists)))"
   ]
  },
  {
   "cell_type": "markdown",
   "id": "cd13d05e-3494-4060-b85a-6ae3630ff50d",
   "metadata": {},
   "source": [
    "Die separate Funktion ersetzt die Verwendung von `lambda` in der Anweisung.  \n",
    "\n",
    "**Vorteile:**\n",
    "- Wiederverwendbarkeit von Code\n",
    "- Weitere Filter können passend zum Kontext erstellt und von anderen Programmen genutzt werden.\n",
    "- Nützlich im Kontext von Parallelverarbeitung. *Kein Thema dieser Lehrveranstaltung*."
   ]
  },
  {
   "cell_type": "markdown",
   "id": "6d055fd9-cdda-4376-adad-85b09d1a4246",
   "metadata": {},
   "source": [
    "### Filtern von List Comprehensions"
   ]
  },
  {
   "cell_type": "markdown",
   "id": "7ca32f8e-2ce3-461c-bed0-3a16244c1960",
   "metadata": {},
   "source": [
    "Die pythonische Version der `filter()`-Anweisung.\n",
    "\n",
    "**List Comprehension**  \n",
    "Dies wird von der Python-Entwickler-Community empfohlen, anstatt die `filter()`-Funktion zu verwenden.\n",
    "Vgl. https://docs.python.org/3/tutorial/datastructures.html?list-comprehensions#list-comprehensions"
   ]
  },
  {
   "cell_type": "code",
   "execution_count": null,
   "id": "866641f9-de2a-4b72-862a-3c92f191da68",
   "metadata": {},
   "outputs": [],
   "source": [
    "[x for x in scientists if x.nobel is True]"
   ]
  },
  {
   "cell_type": "code",
   "execution_count": null,
   "id": "b35897d4-f998-48f6-85b7-8cf936b12ecb",
   "metadata": {},
   "outputs": [],
   "source": [
    "pprint([x for x in scientists if x.nobel is True])"
   ]
  },
  {
   "cell_type": "markdown",
   "id": "e25f56b7-22a2-4fb3-b077-4e21ccbe7b5d",
   "metadata": {},
   "source": [
    "Die Anweisung nun mit Tupel-Datenstruktur:"
   ]
  },
  {
   "cell_type": "code",
   "execution_count": null,
   "id": "42ef48ad-a36b-43ba-8c55-9fb0307c21ca",
   "metadata": {},
   "outputs": [],
   "source": [
    "pprint(tuple([x for x in scientists if x.nobel is True]))"
   ]
  },
  {
   "cell_type": "markdown",
   "id": "c15496fc-af35-44f2-b4d8-4b598601387e",
   "metadata": {},
   "source": [
    "Die Ausgabe aus dieser List Comprehension und aus der Filter-Anweisung sind jetzt tatsächlich völlig gleichwertig.  \n",
    "Aber es geht auch ohne List Comprehension, wenn die Anweisung in einen Gerator-Ausdruck vergewandelt wird. Das Ergebnis ist gleich. Es wird jedoch kein Listen-Objekt als Zwischenprodukt erstellt."
   ]
  },
  {
   "cell_type": "code",
   "execution_count": null,
   "id": "cec2c293-773c-496a-b8bd-d96e2f6fb96e",
   "metadata": {},
   "outputs": [],
   "source": [
    "pprint(tuple(x for x in scientists if x.nobel is True))"
   ]
  },
  {
   "cell_type": "markdown",
   "id": "e8894317-a6f5-4279-bc2f-119a9493b80c",
   "metadata": {},
   "source": [
    "**Erläuterung:**  \n",
    "Es kann ein Objekt, wie diese List Comprehension direkt an die Tupel-Funktion oder jede andere Funktion weitergegeben werden, wenn die eckigen Klammern weggelassen werden.  \n",
    "\n",
    "Dann wird daraus ein Generatorausdruck, der einen Ad-hoc-Iterator definiert, der die erwarteten Werte erzeugt, ohne zuerst eine Liste zu erstellen und dann ein Tupel aus dieser Liste zu erstellen und die Liste wieder zu zerstören.\n",
    "\n",
    "**Vorteil:**  \n",
    "Diese Anweisung ist speichereffizienter."
   ]
  },
  {
   "cell_type": "markdown",
   "id": "b364545b-648e-4b0c-9161-2fc539c71a61",
   "metadata": {
    "tags": []
   },
   "source": [
    "## Die `map()`-Funktion"
   ]
  },
  {
   "cell_type": "markdown",
   "id": "ba7e025a-23f2-438b-bc90-d56ea7a12316",
   "metadata": {
    "tags": []
   },
   "source": [
    "### Übersicht\n",
    "**Verwendung: Transformieren von Datenstrukturen**\n",
    "\n",
    "Die `map()`-Funktion ist integriert in Python.\n",
    "\n",
    "Sie gibt einen Iterator zurück, der die von uns übergebene Funktion berechnet, die als Argumente jedes der angegeben iterierbaren Objekte (`iterables`) verwendet.\n",
    "\n",
    "Die Funktion `map()` wendet die angegebene Funktion auf jeder der iterierbaren Objekt an, z. B. eine Liste, und erzeugt einen Ausgabe-Iterator, der die Ergebnisse jedes Funktionstionsaufrufs beinhaltet."
   ]
  },
  {
   "cell_type": "code",
   "execution_count": null,
   "id": "51898d52-9714-4032-bc2a-2621795934b4",
   "metadata": {},
   "outputs": [],
   "source": [
    "help() # map"
   ]
  },
  {
   "cell_type": "markdown",
   "id": "25accbe8-930e-4fe3-a764-88da34ba80f8",
   "metadata": {
    "tags": []
   },
   "source": [
    "### Anwendungsbeispiel"
   ]
  },
  {
   "cell_type": "markdown",
   "id": "33c83a6d-13bd-4a2e-87dc-c6bd387ec82d",
   "metadata": {},
   "source": [
    "Wir haben den Beispiel-Datensatz von Wissenschaftlern, die alle namedtuple Objekte sind, also unveränderlich. Das Ganze wird in einem Tupel gespeichert, so dass die gesamte Struktur unveränderlich ist. Deshalb wird in diesem Beispiel keine einfache Liste verwendet."
   ]
  },
  {
   "cell_type": "markdown",
   "id": "f97058bd-525f-42e0-8246-7d79075c5a11",
   "metadata": {},
   "source": [
    "**Wiederholung:**\n",
    "Unveränderlich bedeutet, dass diese Objekte nicht modifiziert werden können. Wenn wir sie ändern möchten, müssen wir eine Kopie erstellen. Auf diese Weise können wir diese Änderungen verfolgen und sicherstellen, dass diese Liste immer gleich ist.\n",
    "\n",
    "Grundsätzlich macht die `map()`-Funktion folgendes: Sie benötigt eine Liste von Dingen, wendet eine Funktion auf jedes Element der Liste an und basierend darauf wird eine neue Liste zusammengestellt."
   ]
  },
  {
   "cell_type": "code",
   "execution_count": null,
   "id": "1d480829-8da9-4225-8363-a13c479a7fd4",
   "metadata": {},
   "outputs": [],
   "source": [
    "pprint(scientists)"
   ]
  },
  {
   "cell_type": "markdown",
   "id": "6e45750a-3f36-4b2e-93e7-082e66cc3885",
   "metadata": {},
   "source": [
    "**Neue Liste von Wissenschaftler mit Ihren Namen und deren Alter**"
   ]
  },
  {
   "cell_type": "code",
   "execution_count": null,
   "id": "8f4bfab1-b520-404c-b24b-60792aaf41cf",
   "metadata": {},
   "outputs": [],
   "source": [
    "names_and_ages = tuple(map(\n",
    "    lambda x: {\"name\": x.name, \"age\":2022 - x.born},\n",
    "    scientists\n",
    "))\n",
    "pprint(names_and_ages)"
   ]
  },
  {
   "cell_type": "markdown",
   "id": "db32b99d-8e24-4689-84dd-1eb03820ada4",
   "metadata": {},
   "source": [
    "*Besser: namedtuple*  \n",
    "*Ideal: namedtuple und datetime Modul*"
   ]
  },
  {
   "cell_type": "markdown",
   "id": "7566c8a6-a6ae-4000-8af5-84f945e0b4d0",
   "metadata": {},
   "source": [
    "**Exkurs: datetime Modul**  \n",
    "Vgl. https://docs.python.org/3/library/datetime.html#datetime.datetime.now"
   ]
  },
  {
   "cell_type": "code",
   "execution_count": null,
   "id": "f2128e3a-8eae-4aa9-b74c-c183f28f5258",
   "metadata": {},
   "outputs": [],
   "source": [
    "import datetime\n",
    "x = datetime.datetime.now()\n",
    "year = x.year # Jahr\n",
    "print(year) \n",
    "print(x.strftime(\"%A\")) # Wochentag"
   ]
  },
  {
   "cell_type": "markdown",
   "id": "e544c4d7-043f-412a-910a-a3a120f09ec0",
   "metadata": {},
   "source": [
    "### Vergleich der `map()`-Funktion gegenüber des Generatorausdrucks"
   ]
  },
  {
   "cell_type": "markdown",
   "id": "3aae8612-2051-4786-8a6e-0a8fd5a2679e",
   "metadata": {},
   "source": [
    "**List Comprehension**"
   ]
  },
  {
   "cell_type": "code",
   "execution_count": null,
   "id": "28c95710-fd33-4369-9a09-1dc6ba0503bc",
   "metadata": {},
   "outputs": [],
   "source": [
    "[{\"name\": x.name, \"age\": year - x.born}\n",
    "    for x in scientists]"
   ]
  },
  {
   "cell_type": "markdown",
   "id": "b468ab52-f4e0-4196-9911-b2cb4193c913",
   "metadata": {},
   "source": [
    "**Angleichen an die Anweisung mit der `map()`-Funktion**"
   ]
  },
  {
   "cell_type": "code",
   "execution_count": null,
   "id": "7f961f9a-ab54-4347-a60c-49887a973631",
   "metadata": {},
   "outputs": [],
   "source": [
    "tuple({\"name\": x.name, \"age\": year - x.born} for x in scientists)"
   ]
  },
  {
   "cell_type": "code",
   "execution_count": null,
   "id": "7d10d014-72ab-4ecc-a32a-9b291782aa36",
   "metadata": {},
   "outputs": [],
   "source": [
    "pprint(tuple({\"name\": x.name, \"age\": year - x.born} for x in scientists))"
   ]
  },
  {
   "cell_type": "markdown",
   "id": "1108b579-8a6b-4e3b-97ee-36dfabdf6575",
   "metadata": {},
   "source": [
    "**Generator-Ausdruck:**\n",
    "```python\n",
    "{\"name\": x.name, \"age\": year - x.born}\n",
    "```"
   ]
  },
  {
   "cell_type": "markdown",
   "id": "dbe7549b-bc0c-4d60-b205-76caaa623fd6",
   "metadata": {
    "tags": []
   },
   "source": [
    "### Nutzen der `map()`-Funktion"
   ]
  },
  {
   "cell_type": "markdown",
   "id": "e4bb9eb2-1ca6-486d-a0e1-6f257d926101",
   "metadata": {},
   "source": [
    "Einige geeignete Anwendungsfälle:  \n",
    "- Ergänzen/Anreichern von Datenstätzen um eine Menge an berechneten Eigenschaften\n",
    "- String-Operatoren auf Attribute anwenden wie bspw. `upper()`\n",
    "\n",
    "**Vorteil:**  \n",
    "Erstellung von beliebigen Arbeitsschritten auf Basis von unabhängigen Funktionen\n",
    "\n"
   ]
  },
  {
   "cell_type": "code",
   "execution_count": null,
   "id": "7d187d6c-2773-4cc0-b27e-eca3f4fe7953",
   "metadata": {},
   "outputs": [],
   "source": [
    "pprint(tuple({\"name\": x.name.upper(), \"age\": year - x.born} for x in scientists))"
   ]
  },
  {
   "cell_type": "markdown",
   "id": "f2eb233a-9d45-4b5a-adce-79fd574fe03f",
   "metadata": {
    "tags": []
   },
   "source": [
    "## Die `reduce()`-Funktion"
   ]
  },
  {
   "cell_type": "markdown",
   "id": "d29c0526-e0cf-4396-8d28-118304cd8edb",
   "metadata": {
    "tags": []
   },
   "source": [
    "### Übersicht\n",
    "**Verwendung: Transformieren von Datenstrukturen**\n",
    "\n",
    "Die `reduce()`-Funktion muss importiert werden."
   ]
  },
  {
   "cell_type": "code",
   "execution_count": null,
   "id": "91a427ac-4e8c-4c59-82e8-df7166e2ef5e",
   "metadata": {},
   "outputs": [],
   "source": [
    "from functools import reduce"
   ]
  },
  {
   "cell_type": "code",
   "execution_count": null,
   "id": "c605d769-e048-4ea3-8c47-58528ef7c50f",
   "metadata": {},
   "outputs": [],
   "source": [
    "help() # reduce"
   ]
  },
  {
   "cell_type": "markdown",
   "id": "1ba227fd-4228-4f6f-9eea-42c2aca92fbc",
   "metadata": {},
   "source": [
    "Die Funktion `reduce()` verwendet eine Funktion  und dann eine Folge von Dingen. Für die Funktion `map()` und für die Funktion `filter()` wurden diese als Iterable bezeichnet, daher könnte die Benennung hier ein wenig inkonsistent sein.\n",
    "\n",
    "Grundsätzlich verwendet die Funktion `reduce()` eine Funktion, eine Sequenz und dann einen Initialwert, der optional ist, und reduziert die Sequenz bis zu einem einzelnen Ausgabewert durch wiederholtes Anwenden dieser Funktion auf die Elemente in dieser Sequenz."
   ]
  },
  {
   "cell_type": "markdown",
   "id": "95857785-ed81-46c7-87a0-d20a88cc8f84",
   "metadata": {
    "tags": []
   },
   "source": [
    "### Anwendungsbeispiel"
   ]
  },
  {
   "cell_type": "markdown",
   "id": "defc28bf-07d0-4d97-a50b-e62b11471560",
   "metadata": {},
   "source": [
    "Wir haben den Beispiel-Datensatz von Wissenschaftlern, die alle namedtuple Objekte sind, also unveränderlich. Das Ganze wird in einem Tupel gespeichert, so dass die gesamte Struktur unveränderlich ist. Deshalb wird in diesem Beispiel keine einfache Liste verwendet."
   ]
  },
  {
   "cell_type": "code",
   "execution_count": null,
   "id": "87bcf618-6261-4c57-b402-addd6b88d6a1",
   "metadata": {},
   "outputs": [],
   "source": [
    "pprint(scientists)"
   ]
  },
  {
   "cell_type": "markdown",
   "id": "eb87f325-1c21-4b97-ba53-df5b93919668",
   "metadata": {},
   "source": [
    "**Berechnung der Lebensjahre aller Wissenschaftler**"
   ]
  },
  {
   "cell_type": "code",
   "execution_count": null,
   "id": "e62dd957-7e8e-4f41-b752-8f2f6dc92fba",
   "metadata": {},
   "outputs": [],
   "source": [
    "total_age = reduce(\n",
    "    lambda acc, val: acc + val[\"age\"],\n",
    "    names_and_ages,\n",
    "    0)"
   ]
  },
  {
   "cell_type": "code",
   "execution_count": null,
   "id": "3bcb009a-99df-48a5-a8ac-59287338d4d6",
   "metadata": {},
   "outputs": [],
   "source": [
    "pprint(total_age)"
   ]
  },
  {
   "cell_type": "markdown",
   "id": "f348702b-b78c-4bfb-8b78-54ae9dd0b2a0",
   "metadata": {},
   "source": [
    "**Erläuterung der `reduce`-Anweisung**  \n",
    "- Wir verwenden zwei lambda-Ausdrücke. Der erste ist der Akkumulator `acc`, der zweite ist der Wert `val`.\n",
    "\n",
    "```python\n",
    "lambda acc, val\n",
    "```\n",
    "Diese Lambda-Funktion wird also wiederholt auf alle Elemente in dieser Liste angewendet. `val` wird immer das neueste Element sein, das wir betrachten, und der Akkumulator `acc` wird eine Art laufende Variable sein, die wiederholt aktualisiert wird. Der Rückgabewert dieser Funktion ist der neue Wert des Akkumulators.\n",
    "\n",
    "**Die Anweisung macht Folgendes:**  \n",
    "Reduziere die Werte der Variable `names_and_ages` mit dieser Regel hier auf einen einzelnen Wert dieses Lambdas. Der Anfangswert von `acc` ist in diesem Beispiel 0."
   ]
  },
  {
   "cell_type": "markdown",
   "id": "3a72ac35-b961-4045-9ab4-8c5fc58eddaf",
   "metadata": {},
   "source": [
    "**Generator-Ausdruck:**\n",
    "```python\n",
    "sum(x[\"age\"] for x in names_and_ages)\n",
    "```"
   ]
  },
  {
   "cell_type": "code",
   "execution_count": null,
   "id": "4f3427b1-f4ab-4f84-9d4a-790598410886",
   "metadata": {},
   "outputs": [],
   "source": [
    "sum(x[\"age\"] for x in names_and_ages)"
   ]
  },
  {
   "cell_type": "markdown",
   "id": "d79596a1-a808-4195-8751-a5d12a89252f",
   "metadata": {
    "tags": []
   },
   "source": [
    "### Nutzen der `reduce()`-Funktion"
   ]
  },
  {
   "cell_type": "markdown",
   "id": "0d1f6d1c-bbd1-408c-a0fd-cf0c8cfb9239",
   "metadata": {},
   "source": [
    "**Wissenschaftler nach Arbeitsgebiet gruppieren.**"
   ]
  },
  {
   "cell_type": "code",
   "execution_count": null,
   "id": "19945582-151f-42a5-9acd-1894627b728a",
   "metadata": {},
   "outputs": [],
   "source": [
    "pprint(scientists)"
   ]
  },
  {
   "cell_type": "markdown",
   "id": "bd0bdcda-5e4b-44b6-b057-5dc526eb2d27",
   "metadata": {},
   "source": [
    "1. Datenstruktur für Arbeitsgebiete erstellen"
   ]
  },
  {
   "cell_type": "code",
   "execution_count": null,
   "id": "eaeefe57-161e-44fe-ae36-bade819afd79",
   "metadata": {},
   "outputs": [],
   "source": [
    "{\"math\": [], \"physics\": [], \"pharmaceutical chemist\": [], \"chemistry\": [], \"astronomy\": []}"
   ]
  },
  {
   "cell_type": "code",
   "execution_count": null,
   "id": "6ae9faa5-11d4-4da4-b4cb-898ae3158a33",
   "metadata": {},
   "outputs": [],
   "source": [
    "def reducer(acc, val):\n",
    "    acc[val.field].append(val.name)\n",
    "    return acc\n",
    "\n",
    "scientists_by_field = reduce(\n",
    "    reducer,\n",
    "    scientists,\n",
    "    {\"math\": [], \"physics\": [], \"pharmaceutical chemist\": [], \"chemistry\": [], \"astronomy\": []}\n",
    ")\n",
    "\n",
    "pprint(scientists_by_field)"
   ]
  },
  {
   "cell_type": "markdown",
   "id": "ffe9b5bd-6e18-4b82-9d92-38687143d049",
   "metadata": {},
   "source": [
    "**Erläuterung:**  \n",
    "Wie korrespondieren die Variablen `acc` und `val` mit den den tatsächlichen Werten und welche Werte hat der Akkumulator, wenn er aktualisiert wird?\n",
    "\n",
    "\n",
    "Hier wird Geduld und Nachdenkzeit benötigt. Es ist sinnvoll, dies mehrfach zu durchdenken und durchzuspielen. Vielleicht sogar auf einem Stück Papier oder sicherlich hier in der Übung.\n",
    "\n",
    "**Nachteil:**\n",
    "Eine Sache, die an dieser Lösung wirklich stört, ist, dass im Voraus eine Liste von Kategorien existieren muss, die dann ausgefüllt wird. Das ist ungeschickt, denn wenn bspw. ein Tippfehler in der Anweisung vorhanden sein sollte, dann fliegt und die Anweisung um die Ohren.  \n",
    "\n",
    "Es gibt jedoch einen besseren Weg, und das ist die Verwendung der `defaultdict`-Klasse im `collections`-Modul."
   ]
  },
  {
   "cell_type": "code",
   "execution_count": null,
   "id": "bd3fef5e-72a7-471a-9264-9d4e88438c60",
   "metadata": {},
   "outputs": [],
   "source": [
    "import collections\n",
    "scientists_by_field = reduce(\n",
    "    reducer,\n",
    "    scientists,\n",
    "    collections.defaultdict(list)\n",
    ")"
   ]
  },
  {
   "cell_type": "code",
   "execution_count": null,
   "id": "74177a67-5a42-45c3-9fbd-c74f5e0bc2fc",
   "metadata": {},
   "outputs": [],
   "source": [
    "pprint(scientists_by_field)"
   ]
  },
  {
   "cell_type": "markdown",
   "id": "7f8525ec-a853-4178-8527-c1694c6ba5ae",
   "metadata": {},
   "source": [
    "Das Ergebnis erstaunt.  \n",
    "`collections.defaultlist()` bzw. `defaultdict()` erscheint magisch."
   ]
  },
  {
   "cell_type": "code",
   "execution_count": null,
   "id": "1c0cd052-e6b0-49db-b5e1-24766eadbc7f",
   "metadata": {},
   "outputs": [],
   "source": [
    "dd = collections.defaultdict(list)\n",
    "dd"
   ]
  },
  {
   "cell_type": "markdown",
   "id": "16eb7d0b-1ba4-4538-a408-4b5580ef2741",
   "metadata": {},
   "source": [
    "**Erläuterung:**  \n",
    "Zum besseren Verständnis erstellen wir uns eine Instanz dieser Klasse, sodass dies ein `defaultdict` ist. Jedes Mal, wenn auf einen Schlüssel zugegriffen wird, der nicht vorhanden ist, wird dieser erstellt und mit allem gefüllt, was Sie hier eingeben, unabhängig von der factory-Funktion, die Sie hier übergeben."
   ]
  },
  {
   "cell_type": "markdown",
   "id": "62be35d3-eafd-4400-8a9c-f19471cb1b81",
   "metadata": {},
   "source": [
    "Zu Testzwecken werden wir unsinnige Objekte in das dictionary speichern."
   ]
  },
  {
   "cell_type": "code",
   "execution_count": null,
   "id": "93ee79ec-554c-4306-84a7-63e451db684f",
   "metadata": {},
   "outputs": [],
   "source": [
    "dd[\"existiert nicht\"]\n",
    "dd"
   ]
  },
  {
   "cell_type": "code",
   "execution_count": null,
   "id": "479fc378-0eca-4836-bac9-5fb7b4924135",
   "metadata": {},
   "outputs": [],
   "source": [
    "dd[\"misteriös\"]\n",
    "dd"
   ]
  },
  {
   "cell_type": "code",
   "execution_count": null,
   "id": "010766a6-0e33-4f62-ace2-e899e08c409c",
   "metadata": {},
   "outputs": [],
   "source": [
    "dd[\"xyz\"].append(1)\n",
    "dd\n",
    "dd[\"xyz\"].append(2)\n",
    "dd\n",
    "dd[\"xyz\"].append(3)\n",
    "dd"
   ]
  },
  {
   "cell_type": "markdown",
   "id": "2d7a631a-bfd7-4271-95d0-76051b55a475",
   "metadata": {},
   "source": [
    "**Anmerkung:**  \n",
    "Das Gezeigte ist also ein kleiner Trick, mit dem Sie das manuelle definieren des Akkumulators umgehen können. Selbstverständlich kann dieser Funktionsaufruf noch komplizierter werden. Es kann eine Weile dauern, bis der Code von anderen Programmierern verstanden wird. Deshalb sollte dies nicht in produktivem  Code verwendet werden."
   ]
  },
  {
   "cell_type": "markdown",
   "id": "f3c55bdf-7542-4a8b-837e-58c7c73cff97",
   "metadata": {},
   "source": [
    "### Gruppieren von Daten mit `itertools.groupby()`\n",
    "\n",
    "Mit dem Fokus auf Verständlichkeit verbesserte Version der Anweisung, um Wissenschaftler nach Arbeitsgebiet zu gruppieren."
   ]
  },
  {
   "cell_type": "code",
   "execution_count": null,
   "id": "e6d30f7f-9ed8-4320-82e0-1b9f59da9cb8",
   "metadata": {},
   "outputs": [],
   "source": [
    "import itertools\n",
    "\n",
    "scientists_by_field2 = {\n",
    "    item[0]: list(item[1])\n",
    "    for item in itertools.groupby(scientists, lambda x: x.field)\n",
    "}\n",
    "pprint(scientists_by_field2)"
   ]
  },
  {
   "cell_type": "markdown",
   "id": "2356873c-066b-46cc-90a3-69fd13f32a77",
   "metadata": {},
   "source": [
    "### Extra: functools"
   ]
  },
  {
   "cell_type": "markdown",
   "id": "aca22f60-1504-479a-bf3e-014aba6e64e5",
   "metadata": {},
   "source": [
    "> Warnung: Komplizierter Code. Sollte vermieden werden.\n",
    "\n",
    "Das gleiche Ergebnis, allerdings unter Verwendung einer Lambda-Funktion anstelle einer separat definierten `reducer()`- Funktion. Es wird auch die Dictionary Zusammenführungssyntax `**` verwendet."
   ]
  },
  {
   "cell_type": "code",
   "execution_count": null,
   "id": "77d5c7a3-74b2-4830-bc8b-c0bcb4ac4bd5",
   "metadata": {},
   "outputs": [],
   "source": [
    "import functools\n",
    "scientists_by_field = reduce(\n",
    "    lambda acc, val: {**acc, **{val.field: acc[val.field] + [val.name]}},\n",
    "    scientists,\n",
    "    {\"math\": [], \"physics\": [], \"pharmaceutical chemist\": [], \"chemistry\": [], \"astronomy\": []}\n",
    ")\n",
    "pprint(scientists_by_field)"
   ]
  },
  {
   "cell_type": "markdown",
   "id": "e295f5aa-00be-4e99-b77b-4e53e1b51ea5",
   "metadata": {},
   "source": [
    "**Fazit:**  \n",
    "Verwenden Sie `filter()`, `map()`, und `reduce()` auf unterschiedliche Weise, indem Sie sie beispielsweise durch List Comprehensions oder Generatorausdrücke ersetzen.\n",
    "\n",
    "**Weiterführendes Material:**  \n",
    "https://docs.python.org/3/howto/functional.html"
   ]
  }
 ],
 "metadata": {
  "kernelspec": {
   "display_name": "Python 3 (ipykernel)",
   "language": "python",
   "name": "python3"
  },
  "language_info": {
   "codemirror_mode": {
    "name": "ipython",
    "version": 3
   },
   "file_extension": ".py",
   "mimetype": "text/x-python",
   "name": "python",
   "nbconvert_exporter": "python",
   "pygments_lexer": "ipython3",
   "version": "3.9.7"
  },
  "toc-autonumbering": true,
  "toc-showmarkdowntxt": false
 },
 "nbformat": 4,
 "nbformat_minor": 5
}
